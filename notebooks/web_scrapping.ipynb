{
 "cells": [
  {
   "cell_type": "markdown",
   "metadata": {},
   "source": [
    "# Web scrapping de letras de músicas\n",
    "Neste notebook acessamos a plataforma [Letras](https://letras.mus.br) usando web scrapping e salvamos de um determinado artista em uma tabela, permitindo uma análise posterior."
   ]
  },
  {
   "cell_type": "code",
   "execution_count": 2,
   "metadata": {},
   "outputs": [],
   "source": [
    "import pandas as pd\n",
    "import numpy as np\n",
    "from bs4 import BeautifulSoup\n",
    "import requests\n",
    "import re\n",
    "import os, sys\n",
    "\n",
    "# insert dir of python scripts in the path\n",
    "module_path = os.path.abspath(os.path.join(os.pardir))\n",
    "if module_path not in sys.path:\n",
    "    sys.path.append(module_path)\n",
    "module_path\n",
    "\n",
    "from src.utils import *"
   ]
  },
  {
   "cell_type": "markdown",
   "metadata": {},
   "source": [
    "# Escolha do artista"
   ]
  },
  {
   "cell_type": "code",
   "execution_count": 3,
   "metadata": {},
   "outputs": [],
   "source": [
    "website = 'https://www.letras.mus.br/'\n",
    "# o nome do artista deve estar como escrito na sua página de letras.mus.br. E.g.: luiz-gonzaga\n",
    "artist = 'belchior'\n",
    "url = website + artist\n",
    "# condição para só incluir as composições originais do artista selecionado. \n",
    "# Deve ser usada como False caso deseje onter letras de interprétes\n",
    "original_composer = True"
   ]
  },
  {
   "cell_type": "markdown",
   "metadata": {},
   "source": [
    "# Parsing dos links de todas as letras"
   ]
  },
  {
   "cell_type": "code",
   "execution_count": 4,
   "metadata": {},
   "outputs": [
    {
     "data": {
      "text/plain": [
       "<title>Belchior - LETRAS.MUS.BR</title>"
      ]
     },
     "execution_count": 4,
     "metadata": {},
     "output_type": "execute_result"
    }
   ],
   "source": [
    "# acessa a página do artista\n",
    "try:\n",
    "        req = requests.get(url)\n",
    "except requests.exceptions.RequestException as e:\n",
    "        print(e) \n",
    "             \n",
    "# obtém o conteúdo da página   \n",
    "content = req.content\n",
    "soup = BeautifulSoup(content, 'html.parser')\n",
    "soup = BeautifulSoup(content, 'html.parser')\n",
    "soup.title"
   ]
  },
  {
   "cell_type": "code",
   "execution_count": 5,
   "metadata": {},
   "outputs": [
    {
     "name": "stdout",
     "output_type": "stream",
     "text": [
      "Quantidade de letras: 128\n",
      "https://www.letras.mus.br/belchior/a-cor-do-cacau/\n",
      "https://www.letras.mus.br/belchior/44448/\n",
      "https://www.letras.mus.br/belchior/344900/\n",
      "https://www.letras.mus.br/belchior/1154802/\n",
      "https://www.letras.mus.br/belchior/239370/\n",
      "https://www.letras.mus.br/belchior/239371/\n",
      "https://www.letras.mus.br/belchior/153384/\n",
      "https://www.letras.mus.br/belchior/1839470/\n",
      "https://www.letras.mus.br/belchior/400596/\n",
      "https://www.letras.mus.br/belchior/344901/\n",
      "https://www.letras.mus.br/belchior/1538319/\n",
      "https://www.letras.mus.br/belchior/44449/\n",
      "https://www.letras.mus.br/belchior/400597/\n",
      "https://www.letras.mus.br/belchior/344902/\n",
      "https://www.letras.mus.br/belchior/411035/\n",
      "https://www.letras.mus.br/belchior/709644/\n",
      "https://www.letras.mus.br/belchior/bahiuno/\n",
      "https://www.letras.mus.br/belchior/350408/\n",
      "https://www.letras.mus.br/belchior/296787/\n",
      "https://www.letras.mus.br/belchior/400598/\n",
      "https://www.letras.mus.br/belchior/1060059/\n",
      "https://www.letras.mus.br/belchior/1391391/\n",
      "https://www.letras.mus.br/belchior/296788/\n",
      "https://www.letras.mus.br/belchior/907218/\n",
      "https://www.letras.mus.br/belchior/bela/\n",
      "https://www.letras.mus.br/belchior/1237380/\n",
      "https://www.letras.mus.br/belchior/239372/\n",
      "https://www.letras.mus.br/belchior/344903/\n",
      "https://www.letras.mus.br/belchior/brotinho-de-bambu/\n",
      "https://www.letras.mus.br/belchior/1839476/\n",
      "https://www.letras.mus.br/belchior/923225/\n",
      "https://www.letras.mus.br/belchior/344904/\n",
      "https://www.letras.mus.br/belchior/344905/\n",
      "https://www.letras.mus.br/belchior/344906/\n",
      "https://www.letras.mus.br/belchior/344907/\n",
      "https://www.letras.mus.br/belchior/saia-do-meu-caminho/\n",
      "https://www.letras.mus.br/belchior/1448417/\n",
      "https://www.letras.mus.br/belchior/44451/\n",
      "https://www.letras.mus.br/belchior/344908/\n",
      "https://www.letras.mus.br/belchior/344909/\n",
      "https://www.letras.mus.br/belchior/44452/\n",
      "https://www.letras.mus.br/belchior/44453/\n",
      "https://www.letras.mus.br/belchior/1839477/\n",
      "https://www.letras.mus.br/belchior/344910/\n",
      "https://www.letras.mus.br/belchior/132595/\n",
      "https://www.letras.mus.br/belchior/131081/\n",
      "https://www.letras.mus.br/belchior/344911/\n",
      "https://www.letras.mus.br/belchior/44454/\n",
      "https://www.letras.mus.br/belchior/67420/\n",
      "https://www.letras.mus.br/belchior/1010181/\n",
      "https://www.letras.mus.br/belchior/1743183/\n",
      "https://www.letras.mus.br/belchior/ela/\n",
      "https://www.letras.mus.br/belchior/400599/\n",
      "https://www.letras.mus.br/belchior/785643/\n",
      "https://www.letras.mus.br/belchior/44455/\n",
      "https://www.letras.mus.br/belchior/239373/\n",
      "https://www.letras.mus.br/belchior/estranheleza/\n",
      "https://www.letras.mus.br/belchior/600307/\n",
      "https://www.letras.mus.br/belchior/132598/\n",
      "https://www.letras.mus.br/belchior/44456/\n",
      "https://www.letras.mus.br/belchior/907994/\n",
      "https://www.letras.mus.br/belchior/joia-de-jade/\n",
      "https://www.letras.mus.br/belchior/1547337/\n",
      "https://www.letras.mus.br/belchior/1839475/\n",
      "https://www.letras.mus.br/belchior/la-vida-es-sueno/\n",
      "https://www.letras.mus.br/belchior/400600/\n",
      "https://www.letras.mus.br/belchior/296789/\n",
      "https://www.letras.mus.br/belchior/lua-zen/\n",
      "https://www.letras.mus.br/belchior/1060057/\n",
      "https://www.letras.mus.br/belchior/709645/\n",
      "https://www.letras.mus.br/belchior/44458/\n",
      "https://www.letras.mus.br/belchior/medo-de-aviao-ii/\n",
      "https://www.letras.mus.br/belchior/344912/\n",
      "https://www.letras.mus.br/belchior/meu-nome-e-cem/\n",
      "https://www.letras.mus.br/belchior/350409/\n",
      "https://www.letras.mus.br/belchior/344913/\n",
      "https://www.letras.mus.br/belchior/132699/\n",
      "https://www.letras.mus.br/belchior/44457/\n",
      "https://www.letras.mus.br/belchior/nada-como-viver/\n",
      "https://www.letras.mus.br/belchior/344914/\n",
      "https://www.letras.mus.br/belchior/923226/\n",
      "https://www.letras.mus.br/belchior/344915/\n",
      "https://www.letras.mus.br/belchior/372953/\n",
      "https://www.letras.mus.br/belchior/o-negocio-o-seguinte/\n",
      "https://www.letras.mus.br/belchior/o-nome-da-cidade/\n",
      "https://www.letras.mus.br/belchior/o-tolo/\n",
      "https://www.letras.mus.br/belchior/372954/\n",
      "https://www.letras.mus.br/belchior/400602/\n",
      "https://www.letras.mus.br/belchior/400603/\n",
      "https://www.letras.mus.br/belchior/1839472/\n",
      "https://www.letras.mus.br/belchior/554905/\n",
      "https://www.letras.mus.br/belchior/239374/\n",
      "https://www.letras.mus.br/belchior/paraiso-1982/\n",
      "https://www.letras.mus.br/belchior/paraiso/\n",
      "https://www.letras.mus.br/belchior/44459/\n",
      "https://www.letras.mus.br/belchior/344916/\n",
      "https://www.letras.mus.br/belchior/1785344/\n",
      "https://www.letras.mus.br/belchior/44460/\n",
      "https://www.letras.mus.br/belchior/44461/\n",
      "https://www.letras.mus.br/belchior/ploft/\n",
      "https://www.letras.mus.br/belchior/344917/\n",
      "https://www.letras.mus.br/belchior/princesa-do-meu-lugar/\n",
      "https://www.letras.mus.br/belchior/350410/\n",
      "https://www.letras.mus.br/belchior/1839474/\n",
      "https://www.letras.mus.br/belchior/400604/\n",
      "https://www.letras.mus.br/belchior/rima-da-prosa/\n",
      "https://www.letras.mus.br/belchior/rock-romance-de-um-robo-goliardo/\n",
      "https://www.letras.mus.br/belchior/344918/\n",
      "https://www.letras.mus.br/belchior/400605/\n",
      "https://www.letras.mus.br/belchior/400606/\n",
      "https://www.letras.mus.br/belchior/344919/\n",
      "https://www.letras.mus.br/belchior/344920/\n",
      "https://www.letras.mus.br/belchior/1572674/\n",
      "https://www.letras.mus.br/belchior/344921/\n",
      "https://www.letras.mus.br/belchior/sorry/\n",
      "https://www.letras.mus.br/belchior/344922/\n",
      "https://www.letras.mus.br/belchior/1839471/\n",
      "https://www.letras.mus.br/belchior/239375/\n",
      "https://www.letras.mus.br/belchior/344923/\n",
      "https://www.letras.mus.br/belchior/1839473/\n",
      "https://www.letras.mus.br/belchior/44463/\n",
      "https://www.letras.mus.br/belchior/44462/\n",
      "https://www.letras.mus.br/belchior/44464/\n",
      "https://www.letras.mus.br/belchior/600309/\n",
      "https://www.letras.mus.br/belchior/959402/\n",
      "https://www.letras.mus.br/belchior/400607/\n",
      "https://www.letras.mus.br/belchior/144900/\n",
      "https://www.letras.mus.br/belchior/344924/\n"
     ]
    }
   ],
   "source": [
    "# obtém elementos html das letras\n",
    "lyrics_html = soup.find_all(\"a\", {\"class\": \"song-name\"})\n",
    "\n",
    "# processa elementos transformando em string\n",
    "str_lyrics = str(lyrics_html)\n",
    "#href=\"/belchior/959402/\"\n",
    "split = 'href=\"/' + artist + '/'\n",
    "lyrics = str_lyrics.split(split)\n",
    "lyrics = lyrics[1:]\n",
    "print('Quantidade de letras:',len(lyrics))\n",
    "\n",
    "# parsing para obter os links a partir dos elementos html\n",
    "lyrics_links = []\n",
    "for link in lyrics:\n",
    "    link = link.split('/')\n",
    "    link = link[0]\n",
    "    link = website + artist + '/' + link + '/'\n",
    "    lyrics_links.append(link)\n",
    "    print(link)\n"
   ]
  },
  {
   "cell_type": "markdown",
   "metadata": {},
   "source": [
    "# Seleciona as músicas mais acessadas"
   ]
  },
  {
   "cell_type": "code",
   "execution_count": 6,
   "metadata": {},
   "outputs": [
    {
     "name": "stdout",
     "output_type": "stream",
     "text": [
      "Quantidade de letras mais acessadas: 20\n",
      "https://www.letras.mus.br/belchior/153384/\n",
      "https://www.letras.mus.br/belchior/44448/\n",
      "https://www.letras.mus.br/belchior/44453/\n",
      "https://www.letras.mus.br/belchior/344922/\n",
      "https://www.letras.mus.br/belchior/44449/\n",
      "https://www.letras.mus.br/belchior/44462/\n",
      "https://www.letras.mus.br/belchior/44451/\n",
      "https://www.letras.mus.br/belchior/44454/\n",
      "https://www.letras.mus.br/belchior/saia-do-meu-caminho/\n",
      "https://www.letras.mus.br/belchior/44464/\n",
      "https://www.letras.mus.br/belchior/44459/\n",
      "https://www.letras.mus.br/belchior/132598/\n",
      "https://www.letras.mus.br/belchior/44457/\n",
      "https://www.letras.mus.br/belchior/1448417/\n",
      "https://www.letras.mus.br/belchior/44452/\n",
      "https://www.letras.mus.br/belchior/44460/\n",
      "https://www.letras.mus.br/belchior/44456/\n",
      "https://www.letras.mus.br/belchior/44458/\n",
      "https://www.letras.mus.br/belchior/132699/\n",
      "https://www.letras.mus.br/belchior/44463/\n"
     ]
    }
   ],
   "source": [
    "# músicas mais acessadas\n",
    "most_played = soup.find_all(\"ol\", {\"class\": \"cnt-list cnt-list--num -flex-col-2 js-song-list\"})\n",
    "str_most_played = str(most_played)\n",
    "#href=\"/belchior/959402/\"\n",
    "list_most_played = str_most_played.split(split)\n",
    "list_most_played = list_most_played[1:]\n",
    "print('Quantidade de letras mais acessadas:',len(list_most_played))\n",
    "\n",
    "links_most_played = []\n",
    "for link in list_most_played:\n",
    "    link = link.split('/')\n",
    "    link = link[0]\n",
    "    link = website + artist + '/' + link + '/'\n",
    "    links_most_played.append(link)\n",
    "    print(link)"
   ]
  },
  {
   "cell_type": "markdown",
   "metadata": {},
   "source": [
    "# Recuperar letra a partir de um link"
   ]
  },
  {
   "cell_type": "code",
   "execution_count": 7,
   "metadata": {},
   "outputs": [],
   "source": [
    "# def clean_html(raw_html):\n",
    "#     CLEANR = re.compile('<.*?>') \n",
    "#     clean_text = re.sub(CLEANR, ' ', raw_html)\n",
    "#     clean_text = re.sub(' +', ' ', clean_text)\n",
    "#     return clean_text\n",
    "\n",
    "# def parse_lyric(url, links_most_played = None):\n",
    "#     \"\"\"\n",
    "#     Recebe o link de uma letra e, opcionalmente, uma lista com os links das músicas mais tocadas.\n",
    "#     Retorna titulo, compositor, primeiro compositor, se é mais tocada e o texto da letra\n",
    "#     \"\"\"\n",
    "#     # testa se é uma das músicas mais tocadas\n",
    "#     most_played = False\n",
    "#     if links_most_played and url in links_most_played:\n",
    "#         most_played = True        \n",
    "#     # acessa o link da letra\n",
    "#     try:\n",
    "#         req = requests.get(url)\n",
    "#     except requests.exceptions.RequestException as e: \n",
    "#         print(e)        \n",
    "#     content = req.content\n",
    "#     soup = BeautifulSoup(content, 'html.parser')\n",
    "    \n",
    "#     #compositor\n",
    "#     #<div class=\"letra-info_comp\">\n",
    "#     html_comp = soup.find_all(\"div\", {\"class\": \"letra-info_comp\"})\n",
    "#     html_comp = str(html_comp)\n",
    "#     try:\n",
    "#         composer = html_comp.split('Composição: ')[1]\n",
    "#         composer = composer.split('<a')[0]\n",
    "#         composer = composer[0:-2].strip()\n",
    "#     except:\n",
    "#         composer = 'Não identificado'\n",
    "#     first_composer = composer.split(' / ')[0] \n",
    "    \n",
    "    \n",
    "#     #título da música\n",
    "#     #<div class=\"cnt-head_title\">\n",
    "#     html_title = soup.find_all(\"div\", {\"class\": \"cnt-head_title\"})\n",
    "#     html_title = str(html_title)\n",
    "#     title = html_title.split('<h1>')[1]\n",
    "#     title = title.split('</h1>')[0]\n",
    "    \n",
    "#     #letra da música\n",
    "#     html = soup.find_all(\"div\", {\"class\": \"cnt-letra p402_premium\"})\n",
    "#     html = str(html)\n",
    "#     verses = html.split('<p>')\n",
    "#     verses = verses[1:]\n",
    "\n",
    "#     lyric = ''\n",
    "#     for verse in verses:\n",
    "#         # remove tags html        \n",
    "#         verse = clean_html(verse)\n",
    "#         lyric += verse\n",
    "\n",
    "#     lyric = lyric.strip()\n",
    "#     return title, composer, first_composer, most_played, lyric"
   ]
  },
  {
   "cell_type": "code",
   "execution_count": 8,
   "metadata": {},
   "outputs": [
    {
     "data": {
      "text/plain": [
       "('Como Nossos Pais',\n",
       " 'Belchior',\n",
       " 'Belchior',\n",
       " False,\n",
       " 'Não quero lhe falar, meu grande amor De coisas que aprendi nos discos Quero lhe contar como eu vivi E tudo o que aconteceu comigo Viver é melhor que sonhar Eu sei que o amor é uma coisa boa Mas também sei que qualquer canto É menor do que a vida de qualquer pessoa Por isso cuidado, meu bem Há perigo na esquina Eles venceram e o sinal está fechado pra nós Que somos jovens Para abraçar seu irmão E beijar sua menina na rua É que se fez o seu braço O seu lábio e a sua voz Você me pergunta pela minha paixão Digo que estou encantada como uma nova invenção Eu vou ficar nesta cidade, não vou voltar pro sertão Pois vejo vir vindo no vento cheiro de nova estação Eu sei de tudo na ferida viva do meu coração Já faz tempo, eu vi você na rua Cabelo ao vento, gente jovem reunida Na parede da memória Essa lembrança é o quadro que dói mais Minha dor é perceber Que apesar de termos feito tudo o que fizemos Ainda somos os mesmos e vivemos Ainda somos os mesmos e vivemos Como os nossos pais Nossos ídolos ainda são os mesmos E as aparências não enganam, não Você diz que depois deles Não apareceu mais ninguém Você pode até dizer que eu tô por fora Ou então que eu tô inventando Mas é você que ama o passado e que não vê É você que ama o passado e que não vê Que o novo sempre vem Hoje eu sei que quem me deu a ideia De uma nova consciência e juventude Tá em casa guardado por Deus Contando o vil metal Minha dor é perceber Que apesar de termos feito tudo, tudo, tudo, tudo o que fizemos Nós ainda somos os mesmos e vivemos Ainda somos os mesmos e vivemos Ainda somos os mesmos e vivemos Como os nossos pais ]')"
      ]
     },
     "execution_count": 8,
     "metadata": {},
     "output_type": "execute_result"
    }
   ],
   "source": [
    "parse_lyric('https://www.letras.mus.br/elis-regina/45670/')"
   ]
  },
  {
   "cell_type": "markdown",
   "metadata": {},
   "source": [
    "# Acessa todos os links e armazena as informações"
   ]
  },
  {
   "cell_type": "code",
   "execution_count": null,
   "metadata": {},
   "outputs": [],
   "source": [
    "lyrics_list = []\n",
    "most_played_list = []\n",
    "titles = []\n",
    "composer_target = artist.replace('-',' ')\n",
    "composer_list = []\n",
    "\n",
    "for url in lyrics_links:\n",
    "    title, composer, first_composer, most_played, lyric = parse_lyric(url)    \n",
    "    print(title)\n",
    "    print(composer)\n",
    "    print(most_played)\n",
    "    print(lyric)\n",
    "    print()\n",
    "    \n",
    "    composer_normalized = composer.lower()\n",
    "    composer_normalized = remove_accent(composer)\n",
    "    first_composer = first_composer.lower()\n",
    "    first_composer = remove_accent(first_composer)  \n",
    "\n",
    "    # só adciona ao dataframe se o compositor estiver definido na página e for igual ao artista\n",
    "    # algumas letras podem não ter compositor definido. pode-se remover essa condição, nesses casos\n",
    "    # também testa se já existe alguma letra com o mesmo título no dataset\n",
    "    # se houver mais de um compositor, testará se o primeiro é igual ao artista buscado\n",
    "    if original_composer:\n",
    "        if (composer == composer_target or first_composer == composer_target) and (title not in titles):\n",
    "            lyrics_list.append(lyric)\n",
    "            most_played_list.append(most_played)\n",
    "            titles.append(title)\n",
    "            composer_list.append(composer)\n",
    "            \n",
    "    # inclui todas as letras\n",
    "    else:\n",
    "        lyrics_list.append(lyric)\n",
    "        most_played_list.append(most_played)\n",
    "        titles.append(title)\n",
    "        composer_list.append(composer)"
   ]
  },
  {
   "cell_type": "markdown",
   "metadata": {},
   "source": [
    "# Criando e salvando DataFrame em CSV"
   ]
  },
  {
   "cell_type": "code",
   "execution_count": 14,
   "metadata": {},
   "outputs": [],
   "source": [
    "df = pd.DataFrame(data = {'título': titles, \n",
    "                         'mais tocada': most_played_list,\n",
    "                         'letra': lyrics_list,\n",
    "                         'compositor': composer_list})"
   ]
  },
  {
   "cell_type": "code",
   "execution_count": 11,
   "metadata": {},
   "outputs": [
    {
     "data": {
      "text/html": [
       "<div>\n",
       "<style scoped>\n",
       "    .dataframe tbody tr th:only-of-type {\n",
       "        vertical-align: middle;\n",
       "    }\n",
       "\n",
       "    .dataframe tbody tr th {\n",
       "        vertical-align: top;\n",
       "    }\n",
       "\n",
       "    .dataframe thead th {\n",
       "        text-align: right;\n",
       "    }\n",
       "</style>\n",
       "<table border=\"1\" class=\"dataframe\">\n",
       "  <thead>\n",
       "    <tr style=\"text-align: right;\">\n",
       "      <th></th>\n",
       "      <th>titulo</th>\n",
       "      <th>mais tocada</th>\n",
       "      <th>letra</th>\n",
       "      <th>compositor</th>\n",
       "    </tr>\n",
       "  </thead>\n",
       "  <tbody>\n",
       "    <tr>\n",
       "      <th>0</th>\n",
       "      <td>A Palo Seco</td>\n",
       "      <td>False</td>\n",
       "      <td>Se você vier me perguntar por onde andei No te...</td>\n",
       "      <td>Belchior</td>\n",
       "    </tr>\n",
       "    <tr>\n",
       "      <th>1</th>\n",
       "      <td>Aguapé</td>\n",
       "      <td>False</td>\n",
       "      <td>Capineiro de meu pai Não me cortes meus cabelo...</td>\n",
       "      <td>Belchior / CASTRO ALVES / Raimundo Fagner Epig...</td>\n",
       "    </tr>\n",
       "    <tr>\n",
       "      <th>2</th>\n",
       "      <td>Alucinação</td>\n",
       "      <td>False</td>\n",
       "      <td>Eu não estou interessado em nenhuma teoria Em ...</td>\n",
       "      <td>Belchior</td>\n",
       "    </tr>\n",
       "    <tr>\n",
       "      <th>3</th>\n",
       "      <td>Amor e Crime</td>\n",
       "      <td>False</td>\n",
       "      <td>Amor, não há amor Existem só provas de amor Ma...</td>\n",
       "      <td>Belchior / francisco Casaverde</td>\n",
       "    </tr>\n",
       "    <tr>\n",
       "      <th>4</th>\n",
       "      <td>Apenas Um Rapaz Latino Americano</td>\n",
       "      <td>False</td>\n",
       "      <td>Eu sou apenas um rapaz latino-americano Sem di...</td>\n",
       "      <td>Belchior</td>\n",
       "    </tr>\n",
       "  </tbody>\n",
       "</table>\n",
       "</div>"
      ],
      "text/plain": [
       "                             titulo  mais tocada  \\\n",
       "0                       A Palo Seco        False   \n",
       "1                            Aguapé        False   \n",
       "2                        Alucinação        False   \n",
       "3                      Amor e Crime        False   \n",
       "4  Apenas Um Rapaz Latino Americano        False   \n",
       "\n",
       "                                               letra  \\\n",
       "0  Se você vier me perguntar por onde andei No te...   \n",
       "1  Capineiro de meu pai Não me cortes meus cabelo...   \n",
       "2  Eu não estou interessado em nenhuma teoria Em ...   \n",
       "3  Amor, não há amor Existem só provas de amor Ma...   \n",
       "4  Eu sou apenas um rapaz latino-americano Sem di...   \n",
       "\n",
       "                                          compositor  \n",
       "0                                           Belchior  \n",
       "1  Belchior / CASTRO ALVES / Raimundo Fagner Epig...  \n",
       "2                                           Belchior  \n",
       "3                     Belchior / francisco Casaverde  \n",
       "4                                           Belchior  "
      ]
     },
     "execution_count": 11,
     "metadata": {},
     "output_type": "execute_result"
    }
   ],
   "source": [
    "df.head()"
   ]
  },
  {
   "cell_type": "code",
   "execution_count": 15,
   "metadata": {},
   "outputs": [
    {
     "data": {
      "text/plain": [
       "'c:\\\\Users\\\\lucas.carneiro\\\\visualizando_belchior\\\\raw_data\\\\belchior.csv'"
      ]
     },
     "execution_count": 15,
     "metadata": {},
     "output_type": "execute_result"
    }
   ],
   "source": [
    "filename = artist + '.csv'\n",
    "filepath = os.path.join(module_path, 'raw_data', filename)\n",
    "filepath"
   ]
  },
  {
   "cell_type": "code",
   "execution_count": 16,
   "metadata": {},
   "outputs": [],
   "source": [
    "df.to_csv(filepath, index = False)"
   ]
  }
 ],
 "metadata": {
  "kernelspec": {
   "display_name": "Python 3.9.15 ('belchior')",
   "language": "python",
   "name": "python3"
  },
  "language_info": {
   "codemirror_mode": {
    "name": "ipython",
    "version": 3
   },
   "file_extension": ".py",
   "mimetype": "text/x-python",
   "name": "python",
   "nbconvert_exporter": "python",
   "pygments_lexer": "ipython3",
   "version": "3.9.15"
  },
  "orig_nbformat": 4,
  "vscode": {
   "interpreter": {
    "hash": "a41bf1b711acf6e13f5405b59a72e2891ed0740d19d2ad12b87dee19c713eb30"
   }
  }
 },
 "nbformat": 4,
 "nbformat_minor": 2
}
