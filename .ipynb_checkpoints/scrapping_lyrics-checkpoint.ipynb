{
 "cells": [
  {
   "cell_type": "markdown",
   "metadata": {},
   "source": [
    "# Raspagem de dados de letras de músicas\n",
    "Neste notebook, acessamos a plataforma letras.mus.br para salvar todas as letras de músicas de um determinado artista em uma tabela, permitindo uma análise linguística posterior."
   ]
  },
  {
   "cell_type": "code",
   "execution_count": 1,
   "metadata": {},
   "outputs": [],
   "source": [
    "import pandas as pd\n",
    "import numpy as np\n",
    "from bs4 import BeautifulSoup\n",
    "import requests\n",
    "import re"
   ]
  },
  {
   "cell_type": "markdown",
   "metadata": {},
   "source": [
    "## Escolhendo o artista e requisitando o conteúdo da página HTML"
   ]
  },
  {
   "cell_type": "code",
   "execution_count": 2,
   "metadata": {},
   "outputs": [],
   "source": [
    "letras = 'https://www.letras.mus.br/'\n",
    "artista = 'belchior' #PODEMOS ESCOLHER OUTRO ARTISTA!\n",
    "url = letras + artista"
   ]
  },
  {
   "cell_type": "code",
   "execution_count": 3,
   "metadata": {},
   "outputs": [],
   "source": [
    "try:\n",
    "    req = requests.get(url)\n",
    "except requests.exceptions.RequestException as e:  # This is the correct syntax\n",
    "    print(e)\n",
    "content = req.content"
   ]
  },
  {
   "cell_type": "code",
   "execution_count": 4,
   "metadata": {},
   "outputs": [
    {
     "data": {
      "text/plain": [
       "'https://www.letras.mus.br/belchior'"
      ]
     },
     "execution_count": 4,
     "metadata": {},
     "output_type": "execute_result"
    }
   ],
   "source": [
    "url"
   ]
  },
  {
   "cell_type": "markdown",
   "metadata": {},
   "source": [
    "### Parsing: links de todas as músicas"
   ]
  },
  {
   "cell_type": "code",
   "execution_count": 5,
   "metadata": {},
   "outputs": [],
   "source": [
    "soup = BeautifulSoup(content, 'html.parser')"
   ]
  },
  {
   "cell_type": "code",
   "execution_count": 6,
   "metadata": {},
   "outputs": [
    {
     "data": {
      "text/plain": [
       "<title>Belchior - LETRAS.MUS.BR</title>"
      ]
     },
     "execution_count": 6,
     "metadata": {},
     "output_type": "execute_result"
    }
   ],
   "source": [
    "soup.title"
   ]
  },
  {
   "cell_type": "code",
   "execution_count": 7,
   "metadata": {},
   "outputs": [],
   "source": [
    "#<ul class=\"cnt-list\"> (LISTA DE TODAS AS MÚSICAS)\n",
    "#<ol class=\"cnt-list cnt-list--num cnt-list--col2\"> (LISTA DE MÚSICAS MAIS TOCADAS)\n",
    "musicas = soup.find_all(\"a\", {\"class\": \"song-name\"})"
   ]
  },
  {
   "cell_type": "code",
   "execution_count": 8,
   "metadata": {},
   "outputs": [
    {
     "data": {
      "text/plain": [
       "[<a class=\"song-name\" href=\"/belchior/a-cor-do-cacau/\"><span>A Cor do Cacau</span></a>,\n",
       " <a class=\"song-name\" href=\"/belchior/44448/\"><span>A Palo Seco</span></a>,\n",
       " <a class=\"song-name\" href=\"/belchior/344900/\"><span>Aguapé</span></a>,\n",
       " <a class=\"song-name\" href=\"/belchior/1154802/\"><span>Águas de Março</span></a>,\n",
       " <a class=\"song-name\" href=\"/belchior/239370/\"><span>Aliás</span></a>,\n",
       " <a class=\"song-name\" href=\"/belchior/239371/\"><span>Almanaque</span></a>,\n",
       " <a class=\"song-name\" href=\"/belchior/153384/\"><span>Alucinação</span></a>,\n",
       " <a class=\"song-name\" href=\"/belchior/1839470/\"><span>Amor de Perdição</span></a>,\n",
       " <a class=\"song-name\" href=\"/belchior/400596/\"><span>Amor e Crime</span></a>,\n",
       " <a class=\"song-name\" href=\"/belchior/344901/\"><span>Antes do Fim</span></a>,\n",
       " <a class=\"song-name\" href=\"/belchior/1538319/\"><span>Aparências</span></a>,\n",
       " <a class=\"song-name\" href=\"/belchior/44449/\"><span>Apenas Um Rapaz Latino Americano</span></a>,\n",
       " <a class=\"song-name\" href=\"/belchior/400597/\"><span>Arte Final</span></a>,\n",
       " <a class=\"song-name\" href=\"/belchior/344902/\"><span>Até Amanhã</span></a>,\n",
       " <a class=\"song-name\" href=\"/belchior/411035/\"><span>Ate Mais Ver</span></a>,\n",
       " <a class=\"song-name\" href=\"/belchior/709644/\"><span>Aurora</span></a>,\n",
       " <a class=\"song-name\" href=\"/belchior/bahiuno/\"><span>Bahiuno</span></a>,\n",
       " <a class=\"song-name\" href=\"/belchior/350408/\"><span>Baihuno</span></a>,\n",
       " <a class=\"song-name\" href=\"/belchior/296787/\"><span>Balada de Madame Frigidaire</span></a>,\n",
       " <a class=\"song-name\" href=\"/belchior/400598/\"><span>Balada do Amor</span></a>,\n",
       " <a class=\"song-name\" href=\"/belchior/1060059/\"><span>Bebelo</span></a>,\n",
       " <a class=\"song-name\" href=\"/belchior/1391391/\"><span>Bebo Por Ela</span></a>,\n",
       " <a class=\"song-name\" href=\"/belchior/296788/\"><span>Beijo Molhado</span></a>,\n",
       " <a class=\"song-name\" href=\"/belchior/907218/\"><span>Bel Prazer</span></a>,\n",
       " <a class=\"song-name\" href=\"/belchior/bela/\"><span>Bela</span></a>,\n",
       " <a class=\"song-name\" href=\"/belchior/1237380/\"><span>Bossa Em Palavrões</span></a>,\n",
       " <a class=\"song-name\" href=\"/belchior/239372/\"><span>Brasileiramente Linda</span></a>,\n",
       " <a class=\"song-name\" href=\"/belchior/344903/\"><span>Brincando Com a Vida</span></a>,\n",
       " <a class=\"song-name\" href=\"/belchior/brotinho-de-bambu/\"><span>Brotinho de Bambu</span></a>,\n",
       " <a class=\"song-name\" href=\"/belchior/1839476/\"><span>Bucaneira</span></a>,\n",
       " <a class=\"song-name\" href=\"/belchior/923225/\"><span>Canção de Gesta de Um Trovador Eletrônico</span></a>,\n",
       " <a class=\"song-name\" href=\"/belchior/344904/\"><span>Carisma</span></a>,\n",
       " <a class=\"song-name\" href=\"/belchior/344905/\"><span>Caso Comum de Trânsito</span></a>,\n",
       " <a class=\"song-name\" href=\"/belchior/344906/\"><span>Cemitério</span></a>,\n",
       " <a class=\"song-name\" href=\"/belchior/344907/\"><span>Clamor No Deserto</span></a>,\n",
       " <a class=\"song-name\" href=\"/belchior/saia-do-meu-caminho/\"><span>Comentário a Respeito de John</span></a>,\n",
       " <a class=\"song-name\" href=\"/belchior/1448417/\"><span>Comentário a Respeito de John</span></a>,\n",
       " <a class=\"song-name\" href=\"/belchior/44451/\"><span>Como Nossos Pais</span></a>,\n",
       " <a class=\"song-name\" href=\"/belchior/344908/\"><span>Como o Diabo Gosta</span></a>,\n",
       " <a class=\"song-name\" href=\"/belchior/344909/\"><span>Como Se Fosse Pecado</span></a>,\n",
       " <a class=\"song-name\" href=\"/belchior/44452/\"><span>Conheço o Meu Lugar</span></a>,\n",
       " <a class=\"song-name\" href=\"/belchior/44453/\"><span>Coração Selvagem</span></a>,\n",
       " <a class=\"song-name\" href=\"/belchior/1839477/\"><span>Corpos Terrestres</span></a>,\n",
       " <a class=\"song-name\" href=\"/belchior/344910/\"><span>Cuidar do Homem</span></a>,\n",
       " <a class=\"song-name\" href=\"/belchior/132595/\"><span>Dandy</span></a>,\n",
       " <a class=\"song-name\" href=\"/belchior/131081/\"><span>De Primeira Grandeza</span></a>,\n",
       " <a class=\"song-name\" href=\"/belchior/344911/\"><span>Depois Das Seis</span></a>,\n",
       " <a class=\"song-name\" href=\"/belchior/44454/\"><span>Divina Comédia Humana</span></a>,\n",
       " <a class=\"song-name\" href=\"/belchior/67420/\"><span>Do Mar, do Céu, do Campo</span></a>,\n",
       " <a class=\"song-name\" href=\"/belchior/1010181/\"><span>Doce Mistério da Vida</span></a>,\n",
       " <a class=\"song-name\" href=\"/belchior/1743183/\"><span>E Que Tudo Mais Vá Para o Céu</span></a>,\n",
       " <a class=\"song-name\" href=\"/belchior/ela/\"><span>Ela</span></a>,\n",
       " <a class=\"song-name\" href=\"/belchior/400599/\"><span>Elegia Obscena</span></a>,\n",
       " <a class=\"song-name\" href=\"/belchior/785643/\"><span>Em Resposta à Carta de Fã</span></a>,\n",
       " <a class=\"song-name\" href=\"/belchior/44455/\"><span>Espacial</span></a>,\n",
       " <a class=\"song-name\" href=\"/belchior/239373/\"><span>Esquadros</span></a>,\n",
       " <a class=\"song-name\" href=\"/belchior/estranheleza/\"><span>Estranheleza</span></a>,\n",
       " <a class=\"song-name\" href=\"/belchior/600307/\"><span>Extra Cool</span></a>,\n",
       " <a class=\"song-name\" href=\"/belchior/132598/\"><span>Fotografia 3X4</span></a>,\n",
       " <a class=\"song-name\" href=\"/belchior/44456/\"><span>Galos, Noites e Quintais</span></a>,\n",
       " <a class=\"song-name\" href=\"/belchior/907994/\"><span>Humano Hum</span></a>,\n",
       " <a class=\"song-name\" href=\"/belchior/joia-de-jade/\"><span>Jóia de Jade</span></a>,\n",
       " <a class=\"song-name\" href=\"/belchior/1547337/\"><span>Jornal Blues (Canção Leve de Escárnio e Maldizer)</span></a>,\n",
       " <a class=\"song-name\" href=\"/belchior/1839475/\"><span>Kitsch Metropolitanus</span></a>,\n",
       " <a class=\"song-name\" href=\"/belchior/la-vida-es-sueno/\"><span>La Vida Es Sueño</span></a>,\n",
       " <a class=\"song-name\" href=\"/belchior/400600/\"><span>Lamento do Marginal Bem Sucedido</span></a>,\n",
       " <a class=\"song-name\" href=\"/belchior/296789/\"><span>Lira dos Vinte Anos</span></a>,\n",
       " <a class=\"song-name\" href=\"/belchior/lua-zen/\"><span>Lua Zen</span></a>,\n",
       " <a class=\"song-name\" href=\"/belchior/1060057/\"><span>Máquina II</span></a>,\n",
       " <a class=\"song-name\" href=\"/belchior/709645/\"><span>Mas Que Nada</span></a>,\n",
       " <a class=\"song-name\" href=\"/belchior/44458/\"><span>Medo de Avião</span></a>,\n",
       " <a class=\"song-name\" href=\"/belchior/medo-de-aviao-ii/\"><span>Medo de avião II</span></a>,\n",
       " <a class=\"song-name\" href=\"/belchior/344912/\"><span>Meu Cordial Brasileiro</span></a>,\n",
       " <a class=\"song-name\" href=\"/belchior/meu-nome-e-cem/\"><span>Meu Nome é Cem</span></a>,\n",
       " <a class=\"song-name\" href=\"/belchior/350409/\"><span>Monólogo das Grandezas do Brasil</span></a>,\n",
       " <a class=\"song-name\" href=\"/belchior/344913/\"><span>Mote e Glosa</span></a>,\n",
       " <a class=\"song-name\" href=\"/belchior/132699/\"><span>Mucuripe</span></a>,\n",
       " <a class=\"song-name\" href=\"/belchior/44457/\"><span>Na Hora do Almoço</span></a>,\n",
       " <a class=\"song-name\" href=\"/belchior/nada-como-viver/\"><span>Nada Como Viver</span></a>,\n",
       " <a class=\"song-name\" href=\"/belchior/344914/\"><span>Não Leve Flores</span></a>,\n",
       " <a class=\"song-name\" href=\"/belchior/923226/\"><span>No Maior Jazz</span></a>,\n",
       " <a class=\"song-name\" href=\"/belchior/344915/\"><span>Notícia de Terra Civilizada</span></a>,\n",
       " <a class=\"song-name\" href=\"/belchior/372953/\"><span>Num País Feliz</span></a>,\n",
       " <a class=\"song-name\" href=\"/belchior/o-negocio-o-seguinte/\"><span>O Negócio É o Seguinte</span></a>,\n",
       " <a class=\"song-name\" href=\"/belchior/o-nome-da-cidade/\"><span>O Nome da Cidade</span></a>,\n",
       " <a class=\"song-name\" href=\"/belchior/o-tolo/\"><span>O Tolo</span></a>,\n",
       " <a class=\"song-name\" href=\"/belchior/372954/\"><span>Objeto Direto</span></a>,\n",
       " <a class=\"song-name\" href=\"/belchior/400602/\"><span>Ondas Tropicais</span></a>,\n",
       " <a class=\"song-name\" href=\"/belchior/400603/\"><span>Onde Jazz Meu Coração?</span></a>,\n",
       " <a class=\"song-name\" href=\"/belchior/1839472/\"><span>Os Derradeiros Moicanos</span></a>,\n",
       " <a class=\"song-name\" href=\"/belchior/554905/\"><span>Os Profissionais</span></a>,\n",
       " <a class=\"song-name\" href=\"/belchior/239374/\"><span>Paixão</span></a>,\n",
       " <a class=\"song-name\" href=\"/belchior/paraiso-1982/\"><span>Paraíso</span></a>,\n",
       " <a class=\"song-name\" href=\"/belchior/paraiso/\"><span>Paraíso</span></a>,\n",
       " <a class=\"song-name\" href=\"/belchior/44459/\"><span>Paralelas</span></a>,\n",
       " <a class=\"song-name\" href=\"/belchior/344916/\"><span>Passeio</span></a>,\n",
       " <a class=\"song-name\" href=\"/belchior/1785344/\"><span>Peças e Sinais</span></a>,\n",
       " <a class=\"song-name\" href=\"/belchior/44460/\"><span>Pequeno Mapa do Tempo</span></a>,\n",
       " <a class=\"song-name\" href=\"/belchior/44461/\"><span>Pequeno Perfil de Um Cidadão Comum</span></a>,\n",
       " <a class=\"song-name\" href=\"/belchior/ploft/\"><span>Ploft</span></a>,\n",
       " <a class=\"song-name\" href=\"/belchior/344917/\"><span>Populus</span></a>,\n",
       " <a class=\"song-name\" href=\"/belchior/princesa-do-meu-lugar/\"><span>Princesa do Meu Lugar</span></a>,\n",
       " <a class=\"song-name\" href=\"/belchior/350410/\"><span>Quinhentos Anos de Quê?</span></a>,\n",
       " <a class=\"song-name\" href=\"/belchior/1839474/\"><span>Recitanda</span></a>,\n",
       " <a class=\"song-name\" href=\"/belchior/400604/\"><span>Retórica Sentimental</span></a>,\n",
       " <a class=\"song-name\" href=\"/belchior/rima-da-prosa/\"><span>Rima da Prosa</span></a>,\n",
       " <a class=\"song-name\" href=\"/belchior/rock-romance-de-um-robo-goliardo/\"><span>Rock Romance de Um Robô Goliardo</span></a>,\n",
       " <a class=\"song-name\" href=\"/belchior/344918/\"><span>Rodagem</span></a>,\n",
       " <a class=\"song-name\" href=\"/belchior/400605/\"><span>S.A.</span></a>,\n",
       " <a class=\"song-name\" href=\"/belchior/400606/\"><span>Se Você Tivesse Aparecido</span></a>,\n",
       " <a class=\"song-name\" href=\"/belchior/344919/\"><span>Seixo Rolado</span></a>,\n",
       " <a class=\"song-name\" href=\"/belchior/344920/\"><span>Senhor Dono da Casa</span></a>,\n",
       " <a class=\"song-name\" href=\"/belchior/1572674/\"><span>Senhoras do Amazonas</span></a>,\n",
       " <a class=\"song-name\" href=\"/belchior/344921/\"><span>Sensual</span></a>,\n",
       " <a class=\"song-name\" href=\"/belchior/sorry/\"><span>Sorry</span></a>,\n",
       " <a class=\"song-name\" href=\"/belchior/344922/\"><span>Sujeito de Sorte</span></a>,\n",
       " <a class=\"song-name\" href=\"/belchior/1839471/\"><span>Tambor Tantã</span></a>,\n",
       " <a class=\"song-name\" href=\"/belchior/239375/\"><span>Taxi Boy (Garoto de Aluguel)</span></a>,\n",
       " <a class=\"song-name\" href=\"/belchior/344923/\"><span>Ter Ou Não Ter</span></a>,\n",
       " <a class=\"song-name\" href=\"/belchior/1839473/\"><span>Tocando Por Música</span></a>,\n",
       " <a class=\"song-name\" href=\"/belchior/44463/\"><span>Todo Sujo de Batom</span></a>,\n",
       " <a class=\"song-name\" href=\"/belchior/44462/\"><span>Tudo Outra Vez</span></a>,\n",
       " <a class=\"song-name\" href=\"/belchior/44464/\"><span>Velha Roupa Colorida</span></a>,\n",
       " <a class=\"song-name\" href=\"/belchior/600309/\"><span>Vício Elegante</span></a>,\n",
       " <a class=\"song-name\" href=\"/belchior/959402/\"><span>Vida Cigana</span></a>,\n",
       " <a class=\"song-name\" href=\"/belchior/400607/\"><span>Viva La Dolcezza</span></a>,\n",
       " <a class=\"song-name\" href=\"/belchior/144900/\"><span>Voz da América</span></a>,\n",
       " <a class=\"song-name\" href=\"/belchior/344924/\"><span>Ypê</span></a>]"
      ]
     },
     "execution_count": 8,
     "metadata": {},
     "output_type": "execute_result"
    }
   ],
   "source": [
    "musicas"
   ]
  },
  {
   "cell_type": "code",
   "execution_count": 9,
   "metadata": {},
   "outputs": [
    {
     "name": "stdout",
     "output_type": "stream",
     "text": [
      "128\n"
     ]
    },
    {
     "data": {
      "text/plain": [
       "['a-cor-do-cacau/\"><span>A Cor do Cacau</span></a>, <a class=\"song-name\" ',\n",
       " '44448/\"><span>A Palo Seco</span></a>, <a class=\"song-name\" ',\n",
       " '344900/\"><span>Aguapé</span></a>, <a class=\"song-name\" ',\n",
       " '1154802/\"><span>Águas de Março</span></a>, <a class=\"song-name\" ',\n",
       " '239370/\"><span>Aliás</span></a>, <a class=\"song-name\" ',\n",
       " '239371/\"><span>Almanaque</span></a>, <a class=\"song-name\" ',\n",
       " '153384/\"><span>Alucinação</span></a>, <a class=\"song-name\" ',\n",
       " '1839470/\"><span>Amor de Perdição</span></a>, <a class=\"song-name\" ',\n",
       " '400596/\"><span>Amor e Crime</span></a>, <a class=\"song-name\" ',\n",
       " '344901/\"><span>Antes do Fim</span></a>, <a class=\"song-name\" ',\n",
       " '1538319/\"><span>Aparências</span></a>, <a class=\"song-name\" ',\n",
       " '44449/\"><span>Apenas Um Rapaz Latino Americano</span></a>, <a class=\"song-name\" ',\n",
       " '400597/\"><span>Arte Final</span></a>, <a class=\"song-name\" ',\n",
       " '344902/\"><span>Até Amanhã</span></a>, <a class=\"song-name\" ',\n",
       " '411035/\"><span>Ate Mais Ver</span></a>, <a class=\"song-name\" ',\n",
       " '709644/\"><span>Aurora</span></a>, <a class=\"song-name\" ',\n",
       " 'bahiuno/\"><span>Bahiuno</span></a>, <a class=\"song-name\" ',\n",
       " '350408/\"><span>Baihuno</span></a>, <a class=\"song-name\" ',\n",
       " '296787/\"><span>Balada de Madame Frigidaire</span></a>, <a class=\"song-name\" ',\n",
       " '400598/\"><span>Balada do Amor</span></a>, <a class=\"song-name\" ',\n",
       " '1060059/\"><span>Bebelo</span></a>, <a class=\"song-name\" ',\n",
       " '1391391/\"><span>Bebo Por Ela</span></a>, <a class=\"song-name\" ',\n",
       " '296788/\"><span>Beijo Molhado</span></a>, <a class=\"song-name\" ',\n",
       " '907218/\"><span>Bel Prazer</span></a>, <a class=\"song-name\" ',\n",
       " 'bela/\"><span>Bela</span></a>, <a class=\"song-name\" ',\n",
       " '1237380/\"><span>Bossa Em Palavrões</span></a>, <a class=\"song-name\" ',\n",
       " '239372/\"><span>Brasileiramente Linda</span></a>, <a class=\"song-name\" ',\n",
       " '344903/\"><span>Brincando Com a Vida</span></a>, <a class=\"song-name\" ',\n",
       " 'brotinho-de-bambu/\"><span>Brotinho de Bambu</span></a>, <a class=\"song-name\" ',\n",
       " '1839476/\"><span>Bucaneira</span></a>, <a class=\"song-name\" ',\n",
       " '923225/\"><span>Canção de Gesta de Um Trovador Eletrônico</span></a>, <a class=\"song-name\" ',\n",
       " '344904/\"><span>Carisma</span></a>, <a class=\"song-name\" ',\n",
       " '344905/\"><span>Caso Comum de Trânsito</span></a>, <a class=\"song-name\" ',\n",
       " '344906/\"><span>Cemitério</span></a>, <a class=\"song-name\" ',\n",
       " '344907/\"><span>Clamor No Deserto</span></a>, <a class=\"song-name\" ',\n",
       " 'saia-do-meu-caminho/\"><span>Comentário a Respeito de John</span></a>, <a class=\"song-name\" ',\n",
       " '1448417/\"><span>Comentário a Respeito de John</span></a>, <a class=\"song-name\" ',\n",
       " '44451/\"><span>Como Nossos Pais</span></a>, <a class=\"song-name\" ',\n",
       " '344908/\"><span>Como o Diabo Gosta</span></a>, <a class=\"song-name\" ',\n",
       " '344909/\"><span>Como Se Fosse Pecado</span></a>, <a class=\"song-name\" ',\n",
       " '44452/\"><span>Conheço o Meu Lugar</span></a>, <a class=\"song-name\" ',\n",
       " '44453/\"><span>Coração Selvagem</span></a>, <a class=\"song-name\" ',\n",
       " '1839477/\"><span>Corpos Terrestres</span></a>, <a class=\"song-name\" ',\n",
       " '344910/\"><span>Cuidar do Homem</span></a>, <a class=\"song-name\" ',\n",
       " '132595/\"><span>Dandy</span></a>, <a class=\"song-name\" ',\n",
       " '131081/\"><span>De Primeira Grandeza</span></a>, <a class=\"song-name\" ',\n",
       " '344911/\"><span>Depois Das Seis</span></a>, <a class=\"song-name\" ',\n",
       " '44454/\"><span>Divina Comédia Humana</span></a>, <a class=\"song-name\" ',\n",
       " '67420/\"><span>Do Mar, do Céu, do Campo</span></a>, <a class=\"song-name\" ',\n",
       " '1010181/\"><span>Doce Mistério da Vida</span></a>, <a class=\"song-name\" ',\n",
       " '1743183/\"><span>E Que Tudo Mais Vá Para o Céu</span></a>, <a class=\"song-name\" ',\n",
       " 'ela/\"><span>Ela</span></a>, <a class=\"song-name\" ',\n",
       " '400599/\"><span>Elegia Obscena</span></a>, <a class=\"song-name\" ',\n",
       " '785643/\"><span>Em Resposta à Carta de Fã</span></a>, <a class=\"song-name\" ',\n",
       " '44455/\"><span>Espacial</span></a>, <a class=\"song-name\" ',\n",
       " '239373/\"><span>Esquadros</span></a>, <a class=\"song-name\" ',\n",
       " 'estranheleza/\"><span>Estranheleza</span></a>, <a class=\"song-name\" ',\n",
       " '600307/\"><span>Extra Cool</span></a>, <a class=\"song-name\" ',\n",
       " '132598/\"><span>Fotografia 3X4</span></a>, <a class=\"song-name\" ',\n",
       " '44456/\"><span>Galos, Noites e Quintais</span></a>, <a class=\"song-name\" ',\n",
       " '907994/\"><span>Humano Hum</span></a>, <a class=\"song-name\" ',\n",
       " 'joia-de-jade/\"><span>Jóia de Jade</span></a>, <a class=\"song-name\" ',\n",
       " '1547337/\"><span>Jornal Blues (Canção Leve de Escárnio e Maldizer)</span></a>, <a class=\"song-name\" ',\n",
       " '1839475/\"><span>Kitsch Metropolitanus</span></a>, <a class=\"song-name\" ',\n",
       " 'la-vida-es-sueno/\"><span>La Vida Es Sueño</span></a>, <a class=\"song-name\" ',\n",
       " '400600/\"><span>Lamento do Marginal Bem Sucedido</span></a>, <a class=\"song-name\" ',\n",
       " '296789/\"><span>Lira dos Vinte Anos</span></a>, <a class=\"song-name\" ',\n",
       " 'lua-zen/\"><span>Lua Zen</span></a>, <a class=\"song-name\" ',\n",
       " '1060057/\"><span>Máquina II</span></a>, <a class=\"song-name\" ',\n",
       " '709645/\"><span>Mas Que Nada</span></a>, <a class=\"song-name\" ',\n",
       " '44458/\"><span>Medo de Avião</span></a>, <a class=\"song-name\" ',\n",
       " 'medo-de-aviao-ii/\"><span>Medo de avião II</span></a>, <a class=\"song-name\" ',\n",
       " '344912/\"><span>Meu Cordial Brasileiro</span></a>, <a class=\"song-name\" ',\n",
       " 'meu-nome-e-cem/\"><span>Meu Nome é Cem</span></a>, <a class=\"song-name\" ',\n",
       " '350409/\"><span>Monólogo das Grandezas do Brasil</span></a>, <a class=\"song-name\" ',\n",
       " '344913/\"><span>Mote e Glosa</span></a>, <a class=\"song-name\" ',\n",
       " '132699/\"><span>Mucuripe</span></a>, <a class=\"song-name\" ',\n",
       " '44457/\"><span>Na Hora do Almoço</span></a>, <a class=\"song-name\" ',\n",
       " 'nada-como-viver/\"><span>Nada Como Viver</span></a>, <a class=\"song-name\" ',\n",
       " '344914/\"><span>Não Leve Flores</span></a>, <a class=\"song-name\" ',\n",
       " '923226/\"><span>No Maior Jazz</span></a>, <a class=\"song-name\" ',\n",
       " '344915/\"><span>Notícia de Terra Civilizada</span></a>, <a class=\"song-name\" ',\n",
       " '372953/\"><span>Num País Feliz</span></a>, <a class=\"song-name\" ',\n",
       " 'o-negocio-o-seguinte/\"><span>O Negócio É o Seguinte</span></a>, <a class=\"song-name\" ',\n",
       " 'o-nome-da-cidade/\"><span>O Nome da Cidade</span></a>, <a class=\"song-name\" ',\n",
       " 'o-tolo/\"><span>O Tolo</span></a>, <a class=\"song-name\" ',\n",
       " '372954/\"><span>Objeto Direto</span></a>, <a class=\"song-name\" ',\n",
       " '400602/\"><span>Ondas Tropicais</span></a>, <a class=\"song-name\" ',\n",
       " '400603/\"><span>Onde Jazz Meu Coração?</span></a>, <a class=\"song-name\" ',\n",
       " '1839472/\"><span>Os Derradeiros Moicanos</span></a>, <a class=\"song-name\" ',\n",
       " '554905/\"><span>Os Profissionais</span></a>, <a class=\"song-name\" ',\n",
       " '239374/\"><span>Paixão</span></a>, <a class=\"song-name\" ',\n",
       " 'paraiso-1982/\"><span>Paraíso</span></a>, <a class=\"song-name\" ',\n",
       " 'paraiso/\"><span>Paraíso</span></a>, <a class=\"song-name\" ',\n",
       " '44459/\"><span>Paralelas</span></a>, <a class=\"song-name\" ',\n",
       " '344916/\"><span>Passeio</span></a>, <a class=\"song-name\" ',\n",
       " '1785344/\"><span>Peças e Sinais</span></a>, <a class=\"song-name\" ',\n",
       " '44460/\"><span>Pequeno Mapa do Tempo</span></a>, <a class=\"song-name\" ',\n",
       " '44461/\"><span>Pequeno Perfil de Um Cidadão Comum</span></a>, <a class=\"song-name\" ',\n",
       " 'ploft/\"><span>Ploft</span></a>, <a class=\"song-name\" ',\n",
       " '344917/\"><span>Populus</span></a>, <a class=\"song-name\" ',\n",
       " 'princesa-do-meu-lugar/\"><span>Princesa do Meu Lugar</span></a>, <a class=\"song-name\" ',\n",
       " '350410/\"><span>Quinhentos Anos de Quê?</span></a>, <a class=\"song-name\" ',\n",
       " '1839474/\"><span>Recitanda</span></a>, <a class=\"song-name\" ',\n",
       " '400604/\"><span>Retórica Sentimental</span></a>, <a class=\"song-name\" ',\n",
       " 'rima-da-prosa/\"><span>Rima da Prosa</span></a>, <a class=\"song-name\" ',\n",
       " 'rock-romance-de-um-robo-goliardo/\"><span>Rock Romance de Um Robô Goliardo</span></a>, <a class=\"song-name\" ',\n",
       " '344918/\"><span>Rodagem</span></a>, <a class=\"song-name\" ',\n",
       " '400605/\"><span>S.A.</span></a>, <a class=\"song-name\" ',\n",
       " '400606/\"><span>Se Você Tivesse Aparecido</span></a>, <a class=\"song-name\" ',\n",
       " '344919/\"><span>Seixo Rolado</span></a>, <a class=\"song-name\" ',\n",
       " '344920/\"><span>Senhor Dono da Casa</span></a>, <a class=\"song-name\" ',\n",
       " '1572674/\"><span>Senhoras do Amazonas</span></a>, <a class=\"song-name\" ',\n",
       " '344921/\"><span>Sensual</span></a>, <a class=\"song-name\" ',\n",
       " 'sorry/\"><span>Sorry</span></a>, <a class=\"song-name\" ',\n",
       " '344922/\"><span>Sujeito de Sorte</span></a>, <a class=\"song-name\" ',\n",
       " '1839471/\"><span>Tambor Tantã</span></a>, <a class=\"song-name\" ',\n",
       " '239375/\"><span>Taxi Boy (Garoto de Aluguel)</span></a>, <a class=\"song-name\" ',\n",
       " '344923/\"><span>Ter Ou Não Ter</span></a>, <a class=\"song-name\" ',\n",
       " '1839473/\"><span>Tocando Por Música</span></a>, <a class=\"song-name\" ',\n",
       " '44463/\"><span>Todo Sujo de Batom</span></a>, <a class=\"song-name\" ',\n",
       " '44462/\"><span>Tudo Outra Vez</span></a>, <a class=\"song-name\" ',\n",
       " '44464/\"><span>Velha Roupa Colorida</span></a>, <a class=\"song-name\" ',\n",
       " '600309/\"><span>Vício Elegante</span></a>, <a class=\"song-name\" ',\n",
       " '959402/\"><span>Vida Cigana</span></a>, <a class=\"song-name\" ',\n",
       " '400607/\"><span>Viva La Dolcezza</span></a>, <a class=\"song-name\" ',\n",
       " '144900/\"><span>Voz da América</span></a>, <a class=\"song-name\" ',\n",
       " '344924/\"><span>Ypê</span></a>]']"
      ]
     },
     "execution_count": 9,
     "metadata": {},
     "output_type": "execute_result"
    }
   ],
   "source": [
    "str_musicas = str(musicas)\n",
    "#href=\"/belchior/959402/\"\n",
    "split = 'href=\"/' + artista + '/'\n",
    "lista_musicas = str_musicas.split(split)\n",
    "lista_musicas = lista_musicas[1:]\n",
    "print(len(lista_musicas))\n",
    "lista_musicas"
   ]
  },
  {
   "cell_type": "code",
   "execution_count": 10,
   "metadata": {},
   "outputs": [
    {
     "name": "stdout",
     "output_type": "stream",
     "text": [
      "https://www.letras.mus.br/belchior/a-cor-do-cacau/\n",
      "https://www.letras.mus.br/belchior/44448/\n",
      "https://www.letras.mus.br/belchior/344900/\n",
      "https://www.letras.mus.br/belchior/1154802/\n",
      "https://www.letras.mus.br/belchior/239370/\n",
      "https://www.letras.mus.br/belchior/239371/\n",
      "https://www.letras.mus.br/belchior/153384/\n",
      "https://www.letras.mus.br/belchior/1839470/\n",
      "https://www.letras.mus.br/belchior/400596/\n",
      "https://www.letras.mus.br/belchior/344901/\n",
      "https://www.letras.mus.br/belchior/1538319/\n",
      "https://www.letras.mus.br/belchior/44449/\n",
      "https://www.letras.mus.br/belchior/400597/\n",
      "https://www.letras.mus.br/belchior/344902/\n",
      "https://www.letras.mus.br/belchior/411035/\n",
      "https://www.letras.mus.br/belchior/709644/\n",
      "https://www.letras.mus.br/belchior/bahiuno/\n",
      "https://www.letras.mus.br/belchior/350408/\n",
      "https://www.letras.mus.br/belchior/296787/\n",
      "https://www.letras.mus.br/belchior/400598/\n",
      "https://www.letras.mus.br/belchior/1060059/\n",
      "https://www.letras.mus.br/belchior/1391391/\n",
      "https://www.letras.mus.br/belchior/296788/\n",
      "https://www.letras.mus.br/belchior/907218/\n",
      "https://www.letras.mus.br/belchior/bela/\n",
      "https://www.letras.mus.br/belchior/1237380/\n",
      "https://www.letras.mus.br/belchior/239372/\n",
      "https://www.letras.mus.br/belchior/344903/\n",
      "https://www.letras.mus.br/belchior/brotinho-de-bambu/\n",
      "https://www.letras.mus.br/belchior/1839476/\n",
      "https://www.letras.mus.br/belchior/923225/\n",
      "https://www.letras.mus.br/belchior/344904/\n",
      "https://www.letras.mus.br/belchior/344905/\n",
      "https://www.letras.mus.br/belchior/344906/\n",
      "https://www.letras.mus.br/belchior/344907/\n",
      "https://www.letras.mus.br/belchior/saia-do-meu-caminho/\n",
      "https://www.letras.mus.br/belchior/1448417/\n",
      "https://www.letras.mus.br/belchior/44451/\n",
      "https://www.letras.mus.br/belchior/344908/\n",
      "https://www.letras.mus.br/belchior/344909/\n",
      "https://www.letras.mus.br/belchior/44452/\n",
      "https://www.letras.mus.br/belchior/44453/\n",
      "https://www.letras.mus.br/belchior/1839477/\n",
      "https://www.letras.mus.br/belchior/344910/\n",
      "https://www.letras.mus.br/belchior/132595/\n",
      "https://www.letras.mus.br/belchior/131081/\n",
      "https://www.letras.mus.br/belchior/344911/\n",
      "https://www.letras.mus.br/belchior/44454/\n",
      "https://www.letras.mus.br/belchior/67420/\n",
      "https://www.letras.mus.br/belchior/1010181/\n",
      "https://www.letras.mus.br/belchior/1743183/\n",
      "https://www.letras.mus.br/belchior/ela/\n",
      "https://www.letras.mus.br/belchior/400599/\n",
      "https://www.letras.mus.br/belchior/785643/\n",
      "https://www.letras.mus.br/belchior/44455/\n",
      "https://www.letras.mus.br/belchior/239373/\n",
      "https://www.letras.mus.br/belchior/estranheleza/\n",
      "https://www.letras.mus.br/belchior/600307/\n",
      "https://www.letras.mus.br/belchior/132598/\n",
      "https://www.letras.mus.br/belchior/44456/\n",
      "https://www.letras.mus.br/belchior/907994/\n",
      "https://www.letras.mus.br/belchior/joia-de-jade/\n",
      "https://www.letras.mus.br/belchior/1547337/\n",
      "https://www.letras.mus.br/belchior/1839475/\n",
      "https://www.letras.mus.br/belchior/la-vida-es-sueno/\n",
      "https://www.letras.mus.br/belchior/400600/\n",
      "https://www.letras.mus.br/belchior/296789/\n",
      "https://www.letras.mus.br/belchior/lua-zen/\n",
      "https://www.letras.mus.br/belchior/1060057/\n",
      "https://www.letras.mus.br/belchior/709645/\n",
      "https://www.letras.mus.br/belchior/44458/\n",
      "https://www.letras.mus.br/belchior/medo-de-aviao-ii/\n",
      "https://www.letras.mus.br/belchior/344912/\n",
      "https://www.letras.mus.br/belchior/meu-nome-e-cem/\n",
      "https://www.letras.mus.br/belchior/350409/\n",
      "https://www.letras.mus.br/belchior/344913/\n",
      "https://www.letras.mus.br/belchior/132699/\n",
      "https://www.letras.mus.br/belchior/44457/\n",
      "https://www.letras.mus.br/belchior/nada-como-viver/\n",
      "https://www.letras.mus.br/belchior/344914/\n",
      "https://www.letras.mus.br/belchior/923226/\n",
      "https://www.letras.mus.br/belchior/344915/\n",
      "https://www.letras.mus.br/belchior/372953/\n",
      "https://www.letras.mus.br/belchior/o-negocio-o-seguinte/\n",
      "https://www.letras.mus.br/belchior/o-nome-da-cidade/\n",
      "https://www.letras.mus.br/belchior/o-tolo/\n",
      "https://www.letras.mus.br/belchior/372954/\n",
      "https://www.letras.mus.br/belchior/400602/\n",
      "https://www.letras.mus.br/belchior/400603/\n",
      "https://www.letras.mus.br/belchior/1839472/\n",
      "https://www.letras.mus.br/belchior/554905/\n",
      "https://www.letras.mus.br/belchior/239374/\n",
      "https://www.letras.mus.br/belchior/paraiso-1982/\n",
      "https://www.letras.mus.br/belchior/paraiso/\n",
      "https://www.letras.mus.br/belchior/44459/\n",
      "https://www.letras.mus.br/belchior/344916/\n",
      "https://www.letras.mus.br/belchior/1785344/\n",
      "https://www.letras.mus.br/belchior/44460/\n",
      "https://www.letras.mus.br/belchior/44461/\n",
      "https://www.letras.mus.br/belchior/ploft/\n",
      "https://www.letras.mus.br/belchior/344917/\n",
      "https://www.letras.mus.br/belchior/princesa-do-meu-lugar/\n",
      "https://www.letras.mus.br/belchior/350410/\n",
      "https://www.letras.mus.br/belchior/1839474/\n",
      "https://www.letras.mus.br/belchior/400604/\n",
      "https://www.letras.mus.br/belchior/rima-da-prosa/\n",
      "https://www.letras.mus.br/belchior/rock-romance-de-um-robo-goliardo/\n",
      "https://www.letras.mus.br/belchior/344918/\n",
      "https://www.letras.mus.br/belchior/400605/\n",
      "https://www.letras.mus.br/belchior/400606/\n",
      "https://www.letras.mus.br/belchior/344919/\n",
      "https://www.letras.mus.br/belchior/344920/\n",
      "https://www.letras.mus.br/belchior/1572674/\n",
      "https://www.letras.mus.br/belchior/344921/\n",
      "https://www.letras.mus.br/belchior/sorry/\n",
      "https://www.letras.mus.br/belchior/344922/\n",
      "https://www.letras.mus.br/belchior/1839471/\n",
      "https://www.letras.mus.br/belchior/239375/\n",
      "https://www.letras.mus.br/belchior/344923/\n",
      "https://www.letras.mus.br/belchior/1839473/\n",
      "https://www.letras.mus.br/belchior/44463/\n",
      "https://www.letras.mus.br/belchior/44462/\n",
      "https://www.letras.mus.br/belchior/44464/\n",
      "https://www.letras.mus.br/belchior/600309/\n",
      "https://www.letras.mus.br/belchior/959402/\n",
      "https://www.letras.mus.br/belchior/400607/\n",
      "https://www.letras.mus.br/belchior/144900/\n",
      "https://www.letras.mus.br/belchior/344924/\n"
     ]
    },
    {
     "data": {
      "text/plain": [
       "['https://www.letras.mus.br/belchior/a-cor-do-cacau/',\n",
       " 'https://www.letras.mus.br/belchior/44448/',\n",
       " 'https://www.letras.mus.br/belchior/344900/',\n",
       " 'https://www.letras.mus.br/belchior/1154802/',\n",
       " 'https://www.letras.mus.br/belchior/239370/',\n",
       " 'https://www.letras.mus.br/belchior/239371/',\n",
       " 'https://www.letras.mus.br/belchior/153384/',\n",
       " 'https://www.letras.mus.br/belchior/1839470/',\n",
       " 'https://www.letras.mus.br/belchior/400596/',\n",
       " 'https://www.letras.mus.br/belchior/344901/',\n",
       " 'https://www.letras.mus.br/belchior/1538319/',\n",
       " 'https://www.letras.mus.br/belchior/44449/',\n",
       " 'https://www.letras.mus.br/belchior/400597/',\n",
       " 'https://www.letras.mus.br/belchior/344902/',\n",
       " 'https://www.letras.mus.br/belchior/411035/',\n",
       " 'https://www.letras.mus.br/belchior/709644/',\n",
       " 'https://www.letras.mus.br/belchior/bahiuno/',\n",
       " 'https://www.letras.mus.br/belchior/350408/',\n",
       " 'https://www.letras.mus.br/belchior/296787/',\n",
       " 'https://www.letras.mus.br/belchior/400598/',\n",
       " 'https://www.letras.mus.br/belchior/1060059/',\n",
       " 'https://www.letras.mus.br/belchior/1391391/',\n",
       " 'https://www.letras.mus.br/belchior/296788/',\n",
       " 'https://www.letras.mus.br/belchior/907218/',\n",
       " 'https://www.letras.mus.br/belchior/bela/',\n",
       " 'https://www.letras.mus.br/belchior/1237380/',\n",
       " 'https://www.letras.mus.br/belchior/239372/',\n",
       " 'https://www.letras.mus.br/belchior/344903/',\n",
       " 'https://www.letras.mus.br/belchior/brotinho-de-bambu/',\n",
       " 'https://www.letras.mus.br/belchior/1839476/',\n",
       " 'https://www.letras.mus.br/belchior/923225/',\n",
       " 'https://www.letras.mus.br/belchior/344904/',\n",
       " 'https://www.letras.mus.br/belchior/344905/',\n",
       " 'https://www.letras.mus.br/belchior/344906/',\n",
       " 'https://www.letras.mus.br/belchior/344907/',\n",
       " 'https://www.letras.mus.br/belchior/saia-do-meu-caminho/',\n",
       " 'https://www.letras.mus.br/belchior/1448417/',\n",
       " 'https://www.letras.mus.br/belchior/44451/',\n",
       " 'https://www.letras.mus.br/belchior/344908/',\n",
       " 'https://www.letras.mus.br/belchior/344909/',\n",
       " 'https://www.letras.mus.br/belchior/44452/',\n",
       " 'https://www.letras.mus.br/belchior/44453/',\n",
       " 'https://www.letras.mus.br/belchior/1839477/',\n",
       " 'https://www.letras.mus.br/belchior/344910/',\n",
       " 'https://www.letras.mus.br/belchior/132595/',\n",
       " 'https://www.letras.mus.br/belchior/131081/',\n",
       " 'https://www.letras.mus.br/belchior/344911/',\n",
       " 'https://www.letras.mus.br/belchior/44454/',\n",
       " 'https://www.letras.mus.br/belchior/67420/',\n",
       " 'https://www.letras.mus.br/belchior/1010181/',\n",
       " 'https://www.letras.mus.br/belchior/1743183/',\n",
       " 'https://www.letras.mus.br/belchior/ela/',\n",
       " 'https://www.letras.mus.br/belchior/400599/',\n",
       " 'https://www.letras.mus.br/belchior/785643/',\n",
       " 'https://www.letras.mus.br/belchior/44455/',\n",
       " 'https://www.letras.mus.br/belchior/239373/',\n",
       " 'https://www.letras.mus.br/belchior/estranheleza/',\n",
       " 'https://www.letras.mus.br/belchior/600307/',\n",
       " 'https://www.letras.mus.br/belchior/132598/',\n",
       " 'https://www.letras.mus.br/belchior/44456/',\n",
       " 'https://www.letras.mus.br/belchior/907994/',\n",
       " 'https://www.letras.mus.br/belchior/joia-de-jade/',\n",
       " 'https://www.letras.mus.br/belchior/1547337/',\n",
       " 'https://www.letras.mus.br/belchior/1839475/',\n",
       " 'https://www.letras.mus.br/belchior/la-vida-es-sueno/',\n",
       " 'https://www.letras.mus.br/belchior/400600/',\n",
       " 'https://www.letras.mus.br/belchior/296789/',\n",
       " 'https://www.letras.mus.br/belchior/lua-zen/',\n",
       " 'https://www.letras.mus.br/belchior/1060057/',\n",
       " 'https://www.letras.mus.br/belchior/709645/',\n",
       " 'https://www.letras.mus.br/belchior/44458/',\n",
       " 'https://www.letras.mus.br/belchior/medo-de-aviao-ii/',\n",
       " 'https://www.letras.mus.br/belchior/344912/',\n",
       " 'https://www.letras.mus.br/belchior/meu-nome-e-cem/',\n",
       " 'https://www.letras.mus.br/belchior/350409/',\n",
       " 'https://www.letras.mus.br/belchior/344913/',\n",
       " 'https://www.letras.mus.br/belchior/132699/',\n",
       " 'https://www.letras.mus.br/belchior/44457/',\n",
       " 'https://www.letras.mus.br/belchior/nada-como-viver/',\n",
       " 'https://www.letras.mus.br/belchior/344914/',\n",
       " 'https://www.letras.mus.br/belchior/923226/',\n",
       " 'https://www.letras.mus.br/belchior/344915/',\n",
       " 'https://www.letras.mus.br/belchior/372953/',\n",
       " 'https://www.letras.mus.br/belchior/o-negocio-o-seguinte/',\n",
       " 'https://www.letras.mus.br/belchior/o-nome-da-cidade/',\n",
       " 'https://www.letras.mus.br/belchior/o-tolo/',\n",
       " 'https://www.letras.mus.br/belchior/372954/',\n",
       " 'https://www.letras.mus.br/belchior/400602/',\n",
       " 'https://www.letras.mus.br/belchior/400603/',\n",
       " 'https://www.letras.mus.br/belchior/1839472/',\n",
       " 'https://www.letras.mus.br/belchior/554905/',\n",
       " 'https://www.letras.mus.br/belchior/239374/',\n",
       " 'https://www.letras.mus.br/belchior/paraiso-1982/',\n",
       " 'https://www.letras.mus.br/belchior/paraiso/',\n",
       " 'https://www.letras.mus.br/belchior/44459/',\n",
       " 'https://www.letras.mus.br/belchior/344916/',\n",
       " 'https://www.letras.mus.br/belchior/1785344/',\n",
       " 'https://www.letras.mus.br/belchior/44460/',\n",
       " 'https://www.letras.mus.br/belchior/44461/',\n",
       " 'https://www.letras.mus.br/belchior/ploft/',\n",
       " 'https://www.letras.mus.br/belchior/344917/',\n",
       " 'https://www.letras.mus.br/belchior/princesa-do-meu-lugar/',\n",
       " 'https://www.letras.mus.br/belchior/350410/',\n",
       " 'https://www.letras.mus.br/belchior/1839474/',\n",
       " 'https://www.letras.mus.br/belchior/400604/',\n",
       " 'https://www.letras.mus.br/belchior/rima-da-prosa/',\n",
       " 'https://www.letras.mus.br/belchior/rock-romance-de-um-robo-goliardo/',\n",
       " 'https://www.letras.mus.br/belchior/344918/',\n",
       " 'https://www.letras.mus.br/belchior/400605/',\n",
       " 'https://www.letras.mus.br/belchior/400606/',\n",
       " 'https://www.letras.mus.br/belchior/344919/',\n",
       " 'https://www.letras.mus.br/belchior/344920/',\n",
       " 'https://www.letras.mus.br/belchior/1572674/',\n",
       " 'https://www.letras.mus.br/belchior/344921/',\n",
       " 'https://www.letras.mus.br/belchior/sorry/',\n",
       " 'https://www.letras.mus.br/belchior/344922/',\n",
       " 'https://www.letras.mus.br/belchior/1839471/',\n",
       " 'https://www.letras.mus.br/belchior/239375/',\n",
       " 'https://www.letras.mus.br/belchior/344923/',\n",
       " 'https://www.letras.mus.br/belchior/1839473/',\n",
       " 'https://www.letras.mus.br/belchior/44463/',\n",
       " 'https://www.letras.mus.br/belchior/44462/',\n",
       " 'https://www.letras.mus.br/belchior/44464/',\n",
       " 'https://www.letras.mus.br/belchior/600309/',\n",
       " 'https://www.letras.mus.br/belchior/959402/',\n",
       " 'https://www.letras.mus.br/belchior/400607/',\n",
       " 'https://www.letras.mus.br/belchior/144900/',\n",
       " 'https://www.letras.mus.br/belchior/344924/']"
      ]
     },
     "execution_count": 10,
     "metadata": {},
     "output_type": "execute_result"
    }
   ],
   "source": [
    "links_musicas = []\n",
    "for link in lista_musicas:\n",
    "    link = link.split('/')\n",
    "    link = link[0]\n",
    "    link = letras + artista + '/' + link + '/'\n",
    "    links_musicas.append(link)\n",
    "    print(link)\n",
    "links_musicas"
   ]
  },
  {
   "cell_type": "code",
   "execution_count": 11,
   "metadata": {},
   "outputs": [
    {
     "data": {
      "text/plain": [
       "128"
      ]
     },
     "execution_count": 11,
     "metadata": {},
     "output_type": "execute_result"
    }
   ],
   "source": [
    "len(links_musicas)"
   ]
  },
  {
   "cell_type": "markdown",
   "metadata": {},
   "source": [
    "### Lista de músicas mais tocadas"
   ]
  },
  {
   "cell_type": "code",
   "execution_count": 12,
   "metadata": {},
   "outputs": [
    {
     "data": {
      "text/plain": [
       "[<ol class=\"cnt-list cnt-list--num -flex-col-2 js-song-list\"> <li class=\"cnt-list-row -song\" data-artist=\"Belchior\" data-dns=\"belchior\" data-id=\"153384\" data-name=\"Alucinação\" data-sharetext=\"Alucinação de Belchior\" data-shareurl=\"https://www.letras.mus.br/belchior/153384/\" data-url=\"153384\"> <a href=\"/belchior/153384/\" title=\"Alucinação\"><span>Alucinação</span></a> <div class=\"song-options\"></div> </li> <li class=\"cnt-list-row -song\" data-artist=\"Belchior\" data-dns=\"belchior\" data-id=\"44453\" data-name=\"Coração Selvagem\" data-sharetext=\"Coração Selvagem de Belchior\" data-shareurl=\"https://www.letras.mus.br/belchior/44453/\" data-url=\"44453\"> <a href=\"/belchior/44453/\" title=\"Coração Selvagem\"><span>Coração Selvagem</span></a> <div class=\"song-options\"></div> </li> <li class=\"cnt-list-row -song\" data-artist=\"Belchior\" data-dns=\"belchior\" data-id=\"44448\" data-name=\"A Palo Seco\" data-sharetext=\"A Palo Seco de Belchior\" data-shareurl=\"https://www.letras.mus.br/belchior/44448/\" data-url=\"44448\"> <a href=\"/belchior/44448/\" title=\"A Palo Seco\"><span>A Palo Seco</span></a> <div class=\"song-options\"></div> </li> <li class=\"cnt-list-row -song\" data-artist=\"Belchior\" data-dns=\"belchior\" data-id=\"44449\" data-name=\"Apenas Um Rapaz Latino Americano\" data-sharetext=\"Apenas Um Rapaz Latino Americano de Belchior\" data-shareurl=\"https://www.letras.mus.br/belchior/44449/\" data-url=\"44449\"> <a href=\"/belchior/44449/\" title=\"Apenas Um Rapaz Latino Americano\"><span>Apenas Um Rapaz Latino Americano</span></a> <div class=\"song-options\"></div> </li> <li class=\"cnt-list-row -song\" data-artist=\"Belchior\" data-dns=\"belchior\" data-id=\"344922\" data-name=\"Sujeito de Sorte\" data-sharetext=\"Sujeito de Sorte de Belchior\" data-shareurl=\"https://www.letras.mus.br/belchior/344922/\" data-url=\"344922\"> <a href=\"/belchior/344922/\" title=\"Sujeito de Sorte\"><span>Sujeito de Sorte</span></a> <div class=\"song-options\"></div> </li> <li class=\"cnt-list-row -song\" data-artist=\"Belchior\" data-dns=\"belchior\" data-id=\"44462\" data-name=\"Tudo Outra Vez\" data-sharetext=\"Tudo Outra Vez de Belchior\" data-shareurl=\"https://www.letras.mus.br/belchior/44462/\" data-url=\"44462\"> <a href=\"/belchior/44462/\" title=\"Tudo Outra Vez\"><span>Tudo Outra Vez</span></a> <div class=\"song-options\"></div> </li> <li class=\"cnt-list-row -song\" data-artist=\"Belchior\" data-dns=\"belchior\" data-id=\"44464\" data-name=\"Velha Roupa Colorida\" data-sharetext=\"Velha Roupa Colorida de Belchior\" data-shareurl=\"https://www.letras.mus.br/belchior/44464/\" data-url=\"44464\"> <a href=\"/belchior/44464/\" title=\"Velha Roupa Colorida\"><span>Velha Roupa Colorida</span></a> <div class=\"song-options\"></div> </li> <li class=\"cnt-list-row -song\" data-artist=\"Belchior\" data-dns=\"belchior\" data-id=\"44454\" data-name=\"Divina Comédia Humana\" data-sharetext=\"Divina Comédia Humana de Belchior\" data-shareurl=\"https://www.letras.mus.br/belchior/44454/\" data-url=\"44454\"> <a href=\"/belchior/44454/\" title=\"Divina Comédia Humana\"><span>Divina Comédia Humana</span></a> <div class=\"song-options\"></div> </li> <li class=\"cnt-list-row -song\" data-artist=\"Belchior\" data-dns=\"belchior\" data-id=\"44451\" data-name=\"Como Nossos Pais\" data-sharetext=\"Como Nossos Pais de Belchior\" data-shareurl=\"https://www.letras.mus.br/belchior/44451/\" data-url=\"44451\"> <a href=\"/belchior/44451/\" title=\"Como Nossos Pais\"><span>Como Nossos Pais</span></a> <div class=\"song-options\"></div> </li> <li class=\"cnt-list-row -song\" data-artist=\"Belchior\" data-dns=\"belchior\" data-id=\"132598\" data-name=\"Fotografia 3X4\" data-sharetext=\"Fotografia 3X4 de Belchior\" data-shareurl=\"https://www.letras.mus.br/belchior/132598/\" data-url=\"132598\"> <a href=\"/belchior/132598/\" title=\"Fotografia 3X4\"><span>Fotografia 3X4</span></a> <div class=\"song-options\"></div> </li> <li class=\"cnt-list-row -song\" data-artist=\"Belchior\" data-dns=\"belchior\" data-id=\"44459\" data-name=\"Paralelas\" data-sharetext=\"Paralelas de Belchior\" data-shareurl=\"https://www.letras.mus.br/belchior/44459/\" data-url=\"44459\"> <a href=\"/belchior/44459/\" title=\"Paralelas\"><span>Paralelas</span></a> <div class=\"song-options\"></div> </li> <li class=\"cnt-list-row -song\" data-artist=\"Belchior\" data-dns=\"belchior\" data-id=\"44457\" data-name=\"Na Hora do Almoço\" data-sharetext=\"Na Hora do Almoço de Belchior\" data-shareurl=\"https://www.letras.mus.br/belchior/44457/\" data-url=\"44457\"> <a href=\"/belchior/44457/\" title=\"Na Hora do Almoço\"><span>Na Hora do Almoço</span></a> <div class=\"song-options\"></div> </li> <li class=\"cnt-list-row -song\" data-artist=\"Belchior\" data-dns=\"belchior\" data-id=\"1448417\" data-name=\"Comentário a Respeito de John\" data-sharetext=\"Comentário a Respeito de John de Belchior\" data-shareurl=\"https://www.letras.mus.br/belchior/1448417/\" data-url=\"1448417\"> <a href=\"/belchior/1448417/\" title=\"Comentário a Respeito de John\"><span>Comentário a Respeito de John</span></a> <div class=\"song-options\"></div> </li> <li class=\"cnt-list-row -song\" data-artist=\"Belchior\" data-dns=\"belchior\" data-id=\"44456\" data-name=\"Galos, Noites e Quintais\" data-sharetext=\"Galos, Noites e Quintais de Belchior\" data-shareurl=\"https://www.letras.mus.br/belchior/44456/\" data-url=\"44456\"> <a href=\"/belchior/44456/\" title=\"Galos, Noites e Quintais\"><span>Galos, Noites e Quintais</span></a> <div class=\"song-options\"></div> </li> <li class=\"cnt-list-row -song\" data-artist=\"Belchior\" data-dns=\"belchior\" data-id=\"44460\" data-name=\"Pequeno Mapa do Tempo\" data-sharetext=\"Pequeno Mapa do Tempo de Belchior\" data-shareurl=\"https://www.letras.mus.br/belchior/44460/\" data-url=\"44460\"> <a href=\"/belchior/44460/\" title=\"Pequeno Mapa do Tempo\"><span>Pequeno Mapa do Tempo</span></a> <div class=\"song-options\"></div> </li> <li class=\"cnt-list-row -song\" data-artist=\"Belchior\" data-dns=\"belchior\" data-id=\"44452\" data-name=\"Conheço o Meu Lugar\" data-sharetext=\"Conheço o Meu Lugar de Belchior\" data-shareurl=\"https://www.letras.mus.br/belchior/44452/\" data-url=\"44452\"> <a href=\"/belchior/44452/\" title=\"Conheço o Meu Lugar\"><span>Conheço o Meu Lugar</span></a> <div class=\"song-options\"></div> </li> <li class=\"cnt-list-row -song\" data-artist=\"Belchior\" data-dns=\"belchior\" data-id=\"3124442\" data-name=\"Comentário a Respeito de John\" data-sharetext=\"Comentário a Respeito de John de Belchior\" data-shareurl=\"https://www.letras.mus.br/belchior/saia-do-meu-caminho/\" data-url=\"saia-do-meu-caminho\"> <a href=\"/belchior/saia-do-meu-caminho/\" title=\"Comentário a Respeito de John\"><span>Comentário a Respeito de John</span></a> <div class=\"song-options\"></div> </li> <li class=\"cnt-list-row -song\" data-artist=\"Belchior\" data-dns=\"belchior\" data-id=\"44458\" data-name=\"Medo de Avião\" data-sharetext=\"Medo de Avião de Belchior\" data-shareurl=\"https://www.letras.mus.br/belchior/44458/\" data-url=\"44458\"> <a href=\"/belchior/44458/\" title=\"Medo de Avião\"><span>Medo de Avião</span></a> <div class=\"song-options\"></div> </li> <li class=\"cnt-list-row -song\" data-artist=\"Belchior\" data-dns=\"belchior\" data-id=\"44463\" data-name=\"Todo Sujo de Batom\" data-sharetext=\"Todo Sujo de Batom de Belchior\" data-shareurl=\"https://www.letras.mus.br/belchior/44463/\" data-url=\"44463\"> <a href=\"/belchior/44463/\" title=\"Todo Sujo de Batom\"><span>Todo Sujo de Batom</span></a> <div class=\"song-options\"></div> </li> <li class=\"cnt-list-row -song\" data-artist=\"Belchior\" data-dns=\"belchior\" data-id=\"44461\" data-name=\"Pequeno Perfil de Um Cidadão Comum\" data-sharetext=\"Pequeno Perfil de Um Cidadão Comum de Belchior\" data-shareurl=\"https://www.letras.mus.br/belchior/44461/\" data-url=\"44461\"> <a href=\"/belchior/44461/\" title=\"Pequeno Perfil de Um Cidadão Comum\"><span>Pequeno Perfil de Um Cidadão Comum</span></a> <div class=\"song-options\"></div> </li> </ol>]"
      ]
     },
     "execution_count": 12,
     "metadata": {},
     "output_type": "execute_result"
    }
   ],
   "source": [
    "mais_tocadas = soup.find_all(\"ol\", {\"class\": \"cnt-list cnt-list--num -flex-col-2 js-song-list\"})\n",
    "mais_tocadas"
   ]
  },
  {
   "cell_type": "code",
   "execution_count": 13,
   "metadata": {},
   "outputs": [
    {
     "name": "stdout",
     "output_type": "stream",
     "text": [
      "20\n"
     ]
    },
    {
     "data": {
      "text/plain": [
       "['153384/\" title=\"Alucinação\"><span>Alucinação</span></a> <div class=\"song-options\"></div> </li> <li class=\"cnt-list-row -song\" data-artist=\"Belchior\" data-dns=\"belchior\" data-id=\"44453\" data-name=\"Coração Selvagem\" data-sharetext=\"Coração Selvagem de Belchior\" data-shareurl=\"https://www.letras.mus.br/belchior/44453/\" data-url=\"44453\"> <a ',\n",
       " '44453/\" title=\"Coração Selvagem\"><span>Coração Selvagem</span></a> <div class=\"song-options\"></div> </li> <li class=\"cnt-list-row -song\" data-artist=\"Belchior\" data-dns=\"belchior\" data-id=\"44448\" data-name=\"A Palo Seco\" data-sharetext=\"A Palo Seco de Belchior\" data-shareurl=\"https://www.letras.mus.br/belchior/44448/\" data-url=\"44448\"> <a ',\n",
       " '44448/\" title=\"A Palo Seco\"><span>A Palo Seco</span></a> <div class=\"song-options\"></div> </li> <li class=\"cnt-list-row -song\" data-artist=\"Belchior\" data-dns=\"belchior\" data-id=\"44449\" data-name=\"Apenas Um Rapaz Latino Americano\" data-sharetext=\"Apenas Um Rapaz Latino Americano de Belchior\" data-shareurl=\"https://www.letras.mus.br/belchior/44449/\" data-url=\"44449\"> <a ',\n",
       " '44449/\" title=\"Apenas Um Rapaz Latino Americano\"><span>Apenas Um Rapaz Latino Americano</span></a> <div class=\"song-options\"></div> </li> <li class=\"cnt-list-row -song\" data-artist=\"Belchior\" data-dns=\"belchior\" data-id=\"344922\" data-name=\"Sujeito de Sorte\" data-sharetext=\"Sujeito de Sorte de Belchior\" data-shareurl=\"https://www.letras.mus.br/belchior/344922/\" data-url=\"344922\"> <a ',\n",
       " '344922/\" title=\"Sujeito de Sorte\"><span>Sujeito de Sorte</span></a> <div class=\"song-options\"></div> </li> <li class=\"cnt-list-row -song\" data-artist=\"Belchior\" data-dns=\"belchior\" data-id=\"44462\" data-name=\"Tudo Outra Vez\" data-sharetext=\"Tudo Outra Vez de Belchior\" data-shareurl=\"https://www.letras.mus.br/belchior/44462/\" data-url=\"44462\"> <a ',\n",
       " '44462/\" title=\"Tudo Outra Vez\"><span>Tudo Outra Vez</span></a> <div class=\"song-options\"></div> </li> <li class=\"cnt-list-row -song\" data-artist=\"Belchior\" data-dns=\"belchior\" data-id=\"44464\" data-name=\"Velha Roupa Colorida\" data-sharetext=\"Velha Roupa Colorida de Belchior\" data-shareurl=\"https://www.letras.mus.br/belchior/44464/\" data-url=\"44464\"> <a ',\n",
       " '44464/\" title=\"Velha Roupa Colorida\"><span>Velha Roupa Colorida</span></a> <div class=\"song-options\"></div> </li> <li class=\"cnt-list-row -song\" data-artist=\"Belchior\" data-dns=\"belchior\" data-id=\"44454\" data-name=\"Divina Comédia Humana\" data-sharetext=\"Divina Comédia Humana de Belchior\" data-shareurl=\"https://www.letras.mus.br/belchior/44454/\" data-url=\"44454\"> <a ',\n",
       " '44454/\" title=\"Divina Comédia Humana\"><span>Divina Comédia Humana</span></a> <div class=\"song-options\"></div> </li> <li class=\"cnt-list-row -song\" data-artist=\"Belchior\" data-dns=\"belchior\" data-id=\"44451\" data-name=\"Como Nossos Pais\" data-sharetext=\"Como Nossos Pais de Belchior\" data-shareurl=\"https://www.letras.mus.br/belchior/44451/\" data-url=\"44451\"> <a ',\n",
       " '44451/\" title=\"Como Nossos Pais\"><span>Como Nossos Pais</span></a> <div class=\"song-options\"></div> </li> <li class=\"cnt-list-row -song\" data-artist=\"Belchior\" data-dns=\"belchior\" data-id=\"132598\" data-name=\"Fotografia 3X4\" data-sharetext=\"Fotografia 3X4 de Belchior\" data-shareurl=\"https://www.letras.mus.br/belchior/132598/\" data-url=\"132598\"> <a ',\n",
       " '132598/\" title=\"Fotografia 3X4\"><span>Fotografia 3X4</span></a> <div class=\"song-options\"></div> </li> <li class=\"cnt-list-row -song\" data-artist=\"Belchior\" data-dns=\"belchior\" data-id=\"44459\" data-name=\"Paralelas\" data-sharetext=\"Paralelas de Belchior\" data-shareurl=\"https://www.letras.mus.br/belchior/44459/\" data-url=\"44459\"> <a ',\n",
       " '44459/\" title=\"Paralelas\"><span>Paralelas</span></a> <div class=\"song-options\"></div> </li> <li class=\"cnt-list-row -song\" data-artist=\"Belchior\" data-dns=\"belchior\" data-id=\"44457\" data-name=\"Na Hora do Almoço\" data-sharetext=\"Na Hora do Almoço de Belchior\" data-shareurl=\"https://www.letras.mus.br/belchior/44457/\" data-url=\"44457\"> <a ',\n",
       " '44457/\" title=\"Na Hora do Almoço\"><span>Na Hora do Almoço</span></a> <div class=\"song-options\"></div> </li> <li class=\"cnt-list-row -song\" data-artist=\"Belchior\" data-dns=\"belchior\" data-id=\"1448417\" data-name=\"Comentário a Respeito de John\" data-sharetext=\"Comentário a Respeito de John de Belchior\" data-shareurl=\"https://www.letras.mus.br/belchior/1448417/\" data-url=\"1448417\"> <a ',\n",
       " '1448417/\" title=\"Comentário a Respeito de John\"><span>Comentário a Respeito de John</span></a> <div class=\"song-options\"></div> </li> <li class=\"cnt-list-row -song\" data-artist=\"Belchior\" data-dns=\"belchior\" data-id=\"44456\" data-name=\"Galos, Noites e Quintais\" data-sharetext=\"Galos, Noites e Quintais de Belchior\" data-shareurl=\"https://www.letras.mus.br/belchior/44456/\" data-url=\"44456\"> <a ',\n",
       " '44456/\" title=\"Galos, Noites e Quintais\"><span>Galos, Noites e Quintais</span></a> <div class=\"song-options\"></div> </li> <li class=\"cnt-list-row -song\" data-artist=\"Belchior\" data-dns=\"belchior\" data-id=\"44460\" data-name=\"Pequeno Mapa do Tempo\" data-sharetext=\"Pequeno Mapa do Tempo de Belchior\" data-shareurl=\"https://www.letras.mus.br/belchior/44460/\" data-url=\"44460\"> <a ',\n",
       " '44460/\" title=\"Pequeno Mapa do Tempo\"><span>Pequeno Mapa do Tempo</span></a> <div class=\"song-options\"></div> </li> <li class=\"cnt-list-row -song\" data-artist=\"Belchior\" data-dns=\"belchior\" data-id=\"44452\" data-name=\"Conheço o Meu Lugar\" data-sharetext=\"Conheço o Meu Lugar de Belchior\" data-shareurl=\"https://www.letras.mus.br/belchior/44452/\" data-url=\"44452\"> <a ',\n",
       " '44452/\" title=\"Conheço o Meu Lugar\"><span>Conheço o Meu Lugar</span></a> <div class=\"song-options\"></div> </li> <li class=\"cnt-list-row -song\" data-artist=\"Belchior\" data-dns=\"belchior\" data-id=\"3124442\" data-name=\"Comentário a Respeito de John\" data-sharetext=\"Comentário a Respeito de John de Belchior\" data-shareurl=\"https://www.letras.mus.br/belchior/saia-do-meu-caminho/\" data-url=\"saia-do-meu-caminho\"> <a ',\n",
       " 'saia-do-meu-caminho/\" title=\"Comentário a Respeito de John\"><span>Comentário a Respeito de John</span></a> <div class=\"song-options\"></div> </li> <li class=\"cnt-list-row -song\" data-artist=\"Belchior\" data-dns=\"belchior\" data-id=\"44458\" data-name=\"Medo de Avião\" data-sharetext=\"Medo de Avião de Belchior\" data-shareurl=\"https://www.letras.mus.br/belchior/44458/\" data-url=\"44458\"> <a ',\n",
       " '44458/\" title=\"Medo de Avião\"><span>Medo de Avião</span></a> <div class=\"song-options\"></div> </li> <li class=\"cnt-list-row -song\" data-artist=\"Belchior\" data-dns=\"belchior\" data-id=\"44463\" data-name=\"Todo Sujo de Batom\" data-sharetext=\"Todo Sujo de Batom de Belchior\" data-shareurl=\"https://www.letras.mus.br/belchior/44463/\" data-url=\"44463\"> <a ',\n",
       " '44463/\" title=\"Todo Sujo de Batom\"><span>Todo Sujo de Batom</span></a> <div class=\"song-options\"></div> </li> <li class=\"cnt-list-row -song\" data-artist=\"Belchior\" data-dns=\"belchior\" data-id=\"44461\" data-name=\"Pequeno Perfil de Um Cidadão Comum\" data-sharetext=\"Pequeno Perfil de Um Cidadão Comum de Belchior\" data-shareurl=\"https://www.letras.mus.br/belchior/44461/\" data-url=\"44461\"> <a ',\n",
       " '44461/\" title=\"Pequeno Perfil de Um Cidadão Comum\"><span>Pequeno Perfil de Um Cidadão Comum</span></a> <div class=\"song-options\"></div> </li> </ol>]']"
      ]
     },
     "execution_count": 13,
     "metadata": {},
     "output_type": "execute_result"
    }
   ],
   "source": [
    "str_musicas = str(mais_tocadas)\n",
    "#href=\"/belchior/959402/\"\n",
    "lista_musicas_mais_tocadas = str_musicas.split(split)\n",
    "lista_musicas_mais_tocadas = lista_musicas_mais_tocadas[1:]\n",
    "print(len(lista_musicas_mais_tocadas))\n",
    "lista_musicas_mais_tocadas"
   ]
  },
  {
   "cell_type": "code",
   "execution_count": 14,
   "metadata": {},
   "outputs": [
    {
     "name": "stdout",
     "output_type": "stream",
     "text": [
      "https://www.letras.mus.br/belchior/153384/\n",
      "https://www.letras.mus.br/belchior/44453/\n",
      "https://www.letras.mus.br/belchior/44448/\n",
      "https://www.letras.mus.br/belchior/44449/\n",
      "https://www.letras.mus.br/belchior/344922/\n",
      "https://www.letras.mus.br/belchior/44462/\n",
      "https://www.letras.mus.br/belchior/44464/\n",
      "https://www.letras.mus.br/belchior/44454/\n",
      "https://www.letras.mus.br/belchior/44451/\n",
      "https://www.letras.mus.br/belchior/132598/\n",
      "https://www.letras.mus.br/belchior/44459/\n",
      "https://www.letras.mus.br/belchior/44457/\n",
      "https://www.letras.mus.br/belchior/1448417/\n",
      "https://www.letras.mus.br/belchior/44456/\n",
      "https://www.letras.mus.br/belchior/44460/\n",
      "https://www.letras.mus.br/belchior/44452/\n",
      "https://www.letras.mus.br/belchior/saia-do-meu-caminho/\n",
      "https://www.letras.mus.br/belchior/44458/\n",
      "https://www.letras.mus.br/belchior/44463/\n",
      "https://www.letras.mus.br/belchior/44461/\n"
     ]
    },
    {
     "data": {
      "text/plain": [
       "['https://www.letras.mus.br/belchior/153384/',\n",
       " 'https://www.letras.mus.br/belchior/44453/',\n",
       " 'https://www.letras.mus.br/belchior/44448/',\n",
       " 'https://www.letras.mus.br/belchior/44449/',\n",
       " 'https://www.letras.mus.br/belchior/344922/',\n",
       " 'https://www.letras.mus.br/belchior/44462/',\n",
       " 'https://www.letras.mus.br/belchior/44464/',\n",
       " 'https://www.letras.mus.br/belchior/44454/',\n",
       " 'https://www.letras.mus.br/belchior/44451/',\n",
       " 'https://www.letras.mus.br/belchior/132598/',\n",
       " 'https://www.letras.mus.br/belchior/44459/',\n",
       " 'https://www.letras.mus.br/belchior/44457/',\n",
       " 'https://www.letras.mus.br/belchior/1448417/',\n",
       " 'https://www.letras.mus.br/belchior/44456/',\n",
       " 'https://www.letras.mus.br/belchior/44460/',\n",
       " 'https://www.letras.mus.br/belchior/44452/',\n",
       " 'https://www.letras.mus.br/belchior/saia-do-meu-caminho/',\n",
       " 'https://www.letras.mus.br/belchior/44458/',\n",
       " 'https://www.letras.mus.br/belchior/44463/',\n",
       " 'https://www.letras.mus.br/belchior/44461/']"
      ]
     },
     "execution_count": 14,
     "metadata": {},
     "output_type": "execute_result"
    }
   ],
   "source": [
    "links_mais_tocadas = []\n",
    "for link in lista_musicas_mais_tocadas:\n",
    "    link = link.split('/')\n",
    "    link = link[0]\n",
    "    link = letras + artista + '/' + link + '/'\n",
    "    links_mais_tocadas.append(link)\n",
    "    print(link)\n",
    "links_mais_tocadas"
   ]
  },
  {
   "cell_type": "markdown",
   "metadata": {},
   "source": [
    "## Função para recuperar a dados sobre uma letra de uma página web. A partir de uma url do letras.br, extrai o título da música, nome do compositor, letra e compara se é uma das mais tocadas"
   ]
  },
  {
   "cell_type": "code",
   "execution_count": 15,
   "metadata": {},
   "outputs": [],
   "source": [
    "#<div class=\"cnt-letra p402_premium\" style=\"font-size: 19px\"> (ELEMENTO HTML QUE CONTÉM A LETRA)\n",
    "\n",
    "def parse_lyric(url):\n",
    "    #testa se é uma das músicas mais tocadas\n",
    "    mais_tocada = 0\n",
    "    if url in links_mais_tocadas:\n",
    "        mais_tocada = 1\n",
    "        \n",
    "    \n",
    "    try:\n",
    "        req = requests.get(url)\n",
    "    except requests.exceptions.RequestException as e:  # This is the correct syntax\n",
    "        print(e)        \n",
    "    content = req.content\n",
    "    soup = BeautifulSoup(content, 'html.parser')\n",
    "    \n",
    "    #compositor\n",
    "    #<div class=\"letra-info_comp\">\n",
    "    html_comp = soup.find_all(\"div\", {\"class\": \"letra-info_comp\"})\n",
    "    html_comp = str(html_comp)\n",
    "    compositor = html_comp.split('Composição:  ')[1]\n",
    "    compositor = compositor.split('<a')[0]\n",
    "    compositor = compositor[0:-2].strip()\n",
    "    primeiro_comp = compositor.split(' / ')[0] \n",
    "    \n",
    "    \n",
    "    #título da música\n",
    "    #<div class=\"cnt-head_title\">\n",
    "    html_title = soup.find_all(\"div\", {\"class\": \"cnt-head_title\"})\n",
    "    html_title = str(html_title)\n",
    "    titulo = html_title.split('<h1>')[1]\n",
    "    titulo = titulo.split('</h1>')[0]\n",
    "    \n",
    "    #letra da música\n",
    "    html = soup.find_all(\"div\", {\"class\": \"cnt-letra p402_premium\"})\n",
    "    html = str(html)\n",
    "    estrofes = html.split('<p>')\n",
    "    estrofes = estrofes[1:]\n",
    "\n",
    "    letra = ''\n",
    "    for estrofe in estrofes:\n",
    "        \n",
    "        #estrofe = estrofe.lower()        \n",
    "        #estrofe = estrofe.replace('</p>',' ')\n",
    "        #aqui optamos por manter a marcação de paragrafo, para que seja possível fazer uma análise de estrofes\n",
    "        #optamos também por manter as letras maiúsculas\n",
    "        #esses detalhes podem facilmente ser modificados em uma análise posterior\n",
    "        \n",
    "        estrofe = estrofe.replace('<br/>',' ')\n",
    "        estrofe = estrofe.replace('</br>',' ')\n",
    "        estrofe = estrofe.replace('<br>',' ')\n",
    "        estrofe = estrofe.replace('</div>]','')\n",
    "        letra += estrofe\n",
    "\n",
    "    letra = letra.strip()\n",
    "    return titulo, compositor, primeiro_comp, mais_tocada, letra"
   ]
  },
  {
   "cell_type": "code",
   "execution_count": null,
   "metadata": {},
   "outputs": [],
   "source": []
  },
  {
   "cell_type": "code",
   "execution_count": 16,
   "metadata": {},
   "outputs": [
    {
     "ename": "IndexError",
     "evalue": "list index out of range",
     "output_type": "error",
     "traceback": [
      "\u001b[1;31m---------------------------------------------------------------------------\u001b[0m",
      "\u001b[1;31mIndexError\u001b[0m                                Traceback (most recent call last)",
      "\u001b[1;32m<ipython-input-16-24559527e353>\u001b[0m in \u001b[0;36m<module>\u001b[1;34m\u001b[0m\n\u001b[0;32m      1\u001b[0m \u001b[1;31m#teste\u001b[0m\u001b[1;33m\u001b[0m\u001b[1;33m\u001b[0m\u001b[1;33m\u001b[0m\u001b[0m\n\u001b[1;32m----> 2\u001b[1;33m \u001b[0mt\u001b[0m\u001b[1;33m,\u001b[0m \u001b[0mc\u001b[0m\u001b[1;33m,\u001b[0m \u001b[0mpc\u001b[0m\u001b[1;33m,\u001b[0m \u001b[0mmt\u001b[0m\u001b[1;33m,\u001b[0m \u001b[0ml\u001b[0m \u001b[1;33m=\u001b[0m \u001b[0mparse_lyric\u001b[0m\u001b[1;33m(\u001b[0m\u001b[1;34m'https://www.letras.mus.br/belchior/344922/'\u001b[0m\u001b[1;33m)\u001b[0m\u001b[1;33m\u001b[0m\u001b[1;33m\u001b[0m\u001b[0m\n\u001b[0m\u001b[0;32m      3\u001b[0m \u001b[0mprint\u001b[0m\u001b[1;33m(\u001b[0m\u001b[0mt\u001b[0m\u001b[1;33m)\u001b[0m\u001b[1;33m\u001b[0m\u001b[1;33m\u001b[0m\u001b[0m\n\u001b[0;32m      4\u001b[0m \u001b[0mprint\u001b[0m\u001b[1;33m(\u001b[0m\u001b[0mc\u001b[0m\u001b[1;33m)\u001b[0m\u001b[1;33m\u001b[0m\u001b[1;33m\u001b[0m\u001b[0m\n\u001b[0;32m      5\u001b[0m \u001b[0mprint\u001b[0m\u001b[1;33m(\u001b[0m\u001b[0mpc\u001b[0m\u001b[1;33m)\u001b[0m\u001b[1;33m\u001b[0m\u001b[1;33m\u001b[0m\u001b[0m\n",
      "\u001b[1;32m<ipython-input-15-5b5ce4061ac7>\u001b[0m in \u001b[0;36mparse_lyric\u001b[1;34m(url)\u001b[0m\n\u001b[0;32m     19\u001b[0m     \u001b[0mhtml_comp\u001b[0m \u001b[1;33m=\u001b[0m \u001b[0msoup\u001b[0m\u001b[1;33m.\u001b[0m\u001b[0mfind_all\u001b[0m\u001b[1;33m(\u001b[0m\u001b[1;34m\"div\"\u001b[0m\u001b[1;33m,\u001b[0m \u001b[1;33m{\u001b[0m\u001b[1;34m\"class\"\u001b[0m\u001b[1;33m:\u001b[0m \u001b[1;34m\"letra-info_comp\"\u001b[0m\u001b[1;33m}\u001b[0m\u001b[1;33m)\u001b[0m\u001b[1;33m\u001b[0m\u001b[1;33m\u001b[0m\u001b[0m\n\u001b[0;32m     20\u001b[0m     \u001b[0mhtml_comp\u001b[0m \u001b[1;33m=\u001b[0m \u001b[0mstr\u001b[0m\u001b[1;33m(\u001b[0m\u001b[0mhtml_comp\u001b[0m\u001b[1;33m)\u001b[0m\u001b[1;33m\u001b[0m\u001b[1;33m\u001b[0m\u001b[0m\n\u001b[1;32m---> 21\u001b[1;33m     \u001b[0mcompositor\u001b[0m \u001b[1;33m=\u001b[0m \u001b[0mhtml_comp\u001b[0m\u001b[1;33m.\u001b[0m\u001b[0msplit\u001b[0m\u001b[1;33m(\u001b[0m\u001b[1;34m'Composição:  '\u001b[0m\u001b[1;33m)\u001b[0m\u001b[1;33m[\u001b[0m\u001b[1;36m1\u001b[0m\u001b[1;33m]\u001b[0m\u001b[1;33m\u001b[0m\u001b[1;33m\u001b[0m\u001b[0m\n\u001b[0m\u001b[0;32m     22\u001b[0m     \u001b[0mcompositor\u001b[0m \u001b[1;33m=\u001b[0m \u001b[0mcompositor\u001b[0m\u001b[1;33m.\u001b[0m\u001b[0msplit\u001b[0m\u001b[1;33m(\u001b[0m\u001b[1;34m'<a'\u001b[0m\u001b[1;33m)\u001b[0m\u001b[1;33m[\u001b[0m\u001b[1;36m0\u001b[0m\u001b[1;33m]\u001b[0m\u001b[1;33m\u001b[0m\u001b[1;33m\u001b[0m\u001b[0m\n\u001b[0;32m     23\u001b[0m     \u001b[0mcompositor\u001b[0m \u001b[1;33m=\u001b[0m \u001b[0mcompositor\u001b[0m\u001b[1;33m[\u001b[0m\u001b[1;36m0\u001b[0m\u001b[1;33m:\u001b[0m\u001b[1;33m-\u001b[0m\u001b[1;36m2\u001b[0m\u001b[1;33m]\u001b[0m\u001b[1;33m.\u001b[0m\u001b[0mstrip\u001b[0m\u001b[1;33m(\u001b[0m\u001b[1;33m)\u001b[0m\u001b[1;33m\u001b[0m\u001b[1;33m\u001b[0m\u001b[0m\n",
      "\u001b[1;31mIndexError\u001b[0m: list index out of range"
     ]
    }
   ],
   "source": [
    "#teste\n",
    "t, c, pc, mt, l = parse_lyric('https://www.letras.mus.br/belchior/344922/')\n",
    "print(t)\n",
    "print(c)\n",
    "print(pc)\n",
    "print(mt)\n",
    "print(l)"
   ]
  },
  {
   "cell_type": "raw",
   "metadata": {},
   "source": [
    "# teste\n",
    "\n",
    "url = 'https://www.letras.mus.br/belchior/600307/'\n",
    "\n",
    "try:\n",
    "        req = requests.get(url)\n",
    "except requests.exceptions.RequestException as e:  # This is the correct syntax\n",
    "        print(e)        \n",
    "content = req.content\n",
    "soup = BeautifulSoup(content, 'html.parser')\n",
    "    \n",
    "#compositor\n",
    "#<div class=\"letra-info_comp\">\n",
    "html_comp = soup.find_all(\"div\", {\"class\": \"letra-info_comp\"})\n",
    "html_comp = str(html_comp)\n",
    "compositor = html_comp.split('Composição:  ')[1]\n",
    "compositor = compositor.split('<a')[0]\n",
    "compositor = compositor[0:-2].strip()\n",
    "primeiro_comp = compositor.split(' / ')[0]  \n",
    "\n",
    "a = 'belchior'\n",
    "comp = a.replace('-',' ')\n",
    "comp\n",
    "\n",
    "c = primeiro_comp.lower()\n",
    "c = remover_acentos(c)\n",
    "c == comp"
   ]
  },
  {
   "cell_type": "raw",
   "metadata": {},
   "source": [
    "# teste\n",
    "\n",
    "url = 'https://www.letras.mus.br/ze-ramalho/49364/'\n",
    "\n",
    "try:\n",
    "        req = requests.get(url)\n",
    "except requests.exceptions.RequestException as e:  # This is the correct syntax\n",
    "        print(e)        \n",
    "content = req.content\n",
    "soup = BeautifulSoup(content, 'html.parser')\n",
    "    \n",
    "#letra da música\n",
    "html = soup.find_all(\"div\", {\"class\": \"cnt-letra p402_premium\"})\n",
    "html = str(html)\n",
    "estrofes = html.split('<p>')\n",
    "estrofes = estrofes[1:]\n",
    "\n",
    "letra = ''\n",
    "for estrofe in estrofes:\n",
    "    estrofe = estrofe.lower()\n",
    "    #estrofe = estrofe.replace('</p>',' ')\n",
    "    estrofe = estrofe.replace('<br/>',' ')\n",
    "    estrofe = estrofe.replace('</br>',' ')\n",
    "    estrofe = estrofe.replace('<br>',' ')\n",
    "    estrofe = estrofe.replace('</div>]','')\n",
    "    letra += estrofe\n",
    "\n",
    "letra = letra.strip()\n",
    "letra"
   ]
  },
  {
   "cell_type": "markdown",
   "metadata": {},
   "source": [
    "## Visitando cada página, extraindo e armazenando as informações"
   ]
  },
  {
   "cell_type": "code",
   "execution_count": null,
   "metadata": {},
   "outputs": [],
   "source": [
    "from unicodedata import normalize\n",
    "def remover_acentos(txt):\n",
    "    return normalize('NFKD', txt).encode('ASCII', 'ignore').decode('ASCII')"
   ]
  },
  {
   "cell_type": "code",
   "execution_count": null,
   "metadata": {},
   "outputs": [],
   "source": [
    "letras_col = []\n",
    "mais_tocada_col = []\n",
    "titulo_col = []\n",
    "compositor = artista.replace('-',' ')\n",
    "\n",
    "for url in links_musicas:\n",
    "    t, c, pc, mt, l = parse_lyric(url)\n",
    "    \n",
    "    print(t)\n",
    "    print(c)\n",
    "    print(mt)\n",
    "    print(l)\n",
    "    print()\n",
    "    \n",
    "    c = c.lower()\n",
    "    c = remover_acentos(c)\n",
    "    pc = pc.lower()\n",
    "    pc = remover_acentos(pc)\n",
    "    \n",
    "    #só adciona ao dataframe se o compositor estiver definido na página e for igual ao artista\n",
    "    #algumas letras podem não ter compositor definido. pode-se remover essa condição, nesses casos\n",
    "    #também testa se já existe alguma letra com o mesmo título no dataset\n",
    "    #se houver mais de um compositor, testará se o primeiro é igual ao artista buscado\n",
    "    if (c == compositor or pc == compositor) and (t not in titulo_col):\n",
    "        letras_col.append(l)\n",
    "        mais_tocada_col.append(mt)\n",
    "        titulo_col.append(t)    \n",
    "    \n",
    "    "
   ]
  },
  {
   "cell_type": "code",
   "execution_count": null,
   "metadata": {},
   "outputs": [],
   "source": [
    "len(titulo_col)"
   ]
  },
  {
   "cell_type": "markdown",
   "metadata": {},
   "source": [
    "## Montando um DataFrame"
   ]
  },
  {
   "cell_type": "code",
   "execution_count": null,
   "metadata": {},
   "outputs": [],
   "source": [
    "df = pd.DataFrame(data = {'titulo':titulo_col, \n",
    "                         'mais tocada': mais_tocada_col,\n",
    "                         'letra': letras_col})"
   ]
  },
  {
   "cell_type": "code",
   "execution_count": null,
   "metadata": {},
   "outputs": [],
   "source": [
    "df"
   ]
  },
  {
   "cell_type": "markdown",
   "metadata": {},
   "source": [
    "# Exportando CSV"
   ]
  },
  {
   "cell_type": "code",
   "execution_count": null,
   "metadata": {},
   "outputs": [],
   "source": [
    "filename = artista + '_raw.csv'\n",
    "filename"
   ]
  },
  {
   "cell_type": "code",
   "execution_count": null,
   "metadata": {},
   "outputs": [],
   "source": [
    "df.to_csv(filename,sep='¢')"
   ]
  },
  {
   "cell_type": "code",
   "execution_count": null,
   "metadata": {},
   "outputs": [],
   "source": []
  }
 ],
 "metadata": {
  "kernelspec": {
   "display_name": "Python 3",
   "language": "python",
   "name": "python3"
  },
  "language_info": {
   "codemirror_mode": {
    "name": "ipython",
    "version": 3
   },
   "file_extension": ".py",
   "mimetype": "text/x-python",
   "name": "python",
   "nbconvert_exporter": "python",
   "pygments_lexer": "ipython3",
   "version": "3.8.5"
  }
 },
 "nbformat": 4,
 "nbformat_minor": 2
}
