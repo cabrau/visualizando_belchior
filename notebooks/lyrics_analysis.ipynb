{
 "cells": [
  {
   "cell_type": "markdown",
   "metadata": {},
   "source": [
    "# Processamento e visualização de letras de música"
   ]
  },
  {
   "cell_type": "code",
   "execution_count": 14,
   "metadata": {},
   "outputs": [
    {
     "name": "stderr",
     "output_type": "stream",
     "text": [
      "[nltk_data] Downloading package stopwords to\n",
      "[nltk_data]     C:\\Users\\lucas.carneiro\\AppData\\Roaming\\nltk_data...\n",
      "[nltk_data]   Package stopwords is already up-to-date!\n"
     ]
    },
    {
     "data": {
      "text/plain": [
       "True"
      ]
     },
     "execution_count": 14,
     "metadata": {},
     "output_type": "execute_result"
    }
   ],
   "source": [
    "import pandas as pd\n",
    "import numpy as np\n",
    "from scipy.sparse import csr_matrix\n",
    "import matplotlib.pyplot as plt\n",
    "import seaborn as sns\n",
    "import re\n",
    "import os, sys\n",
    "import nltk\n",
    "# stopwords em inglês\n",
    "from nltk.corpus import stopwords\n",
    "\n",
    "# insert dir of python scripts in the path\n",
    "module_path = os.path.abspath(os.path.join(os.pardir))\n",
    "if module_path not in sys.path:\n",
    "    sys.path.append(module_path)\n",
    "module_path\n",
    "\n",
    "from src.utils import *\n",
    "nltk.download('stopwords')"
   ]
  },
  {
   "cell_type": "code",
   "execution_count": 4,
   "metadata": {},
   "outputs": [
    {
     "data": {
      "text/plain": [
       "'c:\\\\Users\\\\lucas.carneiro\\\\visualizando_belchior'"
      ]
     },
     "execution_count": 4,
     "metadata": {},
     "output_type": "execute_result"
    }
   ],
   "source": [
    "module_path"
   ]
  },
  {
   "cell_type": "code",
   "execution_count": 5,
   "metadata": {},
   "outputs": [
    {
     "data": {
      "text/html": [
       "<div>\n",
       "<style scoped>\n",
       "    .dataframe tbody tr th:only-of-type {\n",
       "        vertical-align: middle;\n",
       "    }\n",
       "\n",
       "    .dataframe tbody tr th {\n",
       "        vertical-align: top;\n",
       "    }\n",
       "\n",
       "    .dataframe thead th {\n",
       "        text-align: right;\n",
       "    }\n",
       "</style>\n",
       "<table border=\"1\" class=\"dataframe\">\n",
       "  <thead>\n",
       "    <tr style=\"text-align: right;\">\n",
       "      <th></th>\n",
       "      <th>título</th>\n",
       "      <th>mais tocada</th>\n",
       "      <th>letra</th>\n",
       "      <th>compositor</th>\n",
       "    </tr>\n",
       "  </thead>\n",
       "  <tbody>\n",
       "    <tr>\n",
       "      <th>0</th>\n",
       "      <td>A Palo Seco</td>\n",
       "      <td>False</td>\n",
       "      <td>Se você vier me perguntar por onde andei No te...</td>\n",
       "      <td>Belchior</td>\n",
       "    </tr>\n",
       "    <tr>\n",
       "      <th>1</th>\n",
       "      <td>Aguapé</td>\n",
       "      <td>False</td>\n",
       "      <td>Capineiro de meu pai Não me cortes meus cabelo...</td>\n",
       "      <td>Belchior / CASTRO ALVES / Raimundo Fagner Epig...</td>\n",
       "    </tr>\n",
       "    <tr>\n",
       "      <th>2</th>\n",
       "      <td>Alucinação</td>\n",
       "      <td>False</td>\n",
       "      <td>Eu não estou interessado em nenhuma teoria Em ...</td>\n",
       "      <td>Belchior</td>\n",
       "    </tr>\n",
       "    <tr>\n",
       "      <th>3</th>\n",
       "      <td>Amor e Crime</td>\n",
       "      <td>False</td>\n",
       "      <td>Amor, não há amor Existem só provas de amor Ma...</td>\n",
       "      <td>Belchior / francisco Casaverde</td>\n",
       "    </tr>\n",
       "    <tr>\n",
       "      <th>4</th>\n",
       "      <td>Apenas Um Rapaz Latino Americano</td>\n",
       "      <td>False</td>\n",
       "      <td>Eu sou apenas um rapaz latino-americano Sem di...</td>\n",
       "      <td>Belchior</td>\n",
       "    </tr>\n",
       "  </tbody>\n",
       "</table>\n",
       "</div>"
      ],
      "text/plain": [
       "                             título  mais tocada  \\\n",
       "0                       A Palo Seco        False   \n",
       "1                            Aguapé        False   \n",
       "2                        Alucinação        False   \n",
       "3                      Amor e Crime        False   \n",
       "4  Apenas Um Rapaz Latino Americano        False   \n",
       "\n",
       "                                               letra  \\\n",
       "0  Se você vier me perguntar por onde andei No te...   \n",
       "1  Capineiro de meu pai Não me cortes meus cabelo...   \n",
       "2  Eu não estou interessado em nenhuma teoria Em ...   \n",
       "3  Amor, não há amor Existem só provas de amor Ma...   \n",
       "4  Eu sou apenas um rapaz latino-americano Sem di...   \n",
       "\n",
       "                                          compositor  \n",
       "0                                           Belchior  \n",
       "1  Belchior / CASTRO ALVES / Raimundo Fagner Epig...  \n",
       "2                                           Belchior  \n",
       "3                     Belchior / francisco Casaverde  \n",
       "4                                           Belchior  "
      ]
     },
     "execution_count": 5,
     "metadata": {},
     "output_type": "execute_result"
    }
   ],
   "source": [
    "artist = 'belchior'\n",
    "artist = artist + '.csv'\n",
    "filepath = os.path.join(module_path, 'raw_data', artist)\n",
    "df = pd.read_csv(filepath)\n",
    "df.head()"
   ]
  },
  {
   "cell_type": "markdown",
   "metadata": {},
   "source": [
    "# Pré-processamento"
   ]
  },
  {
   "cell_type": "code",
   "execution_count": 60,
   "metadata": {},
   "outputs": [],
   "source": [
    "import string\n",
    "from sklearn.feature_extraction.text import CountVectorizer\n",
    "\n",
    "# stopwords inglês\n",
    "stopwords_list = stopwords.words('english')\n",
    "# stopwords pt-br\n",
    "stopwords_path = os.path.join(module_path, 'linguistic_resources', 'stopwords.txt')\n",
    "with open(stopwords_path) as f:\n",
    "       for line in f:\n",
    "            line = line.replace(' ','')\n",
    "            line = line.replace('\\n','')\n",
    "            stopwords_list.append(line)\n",
    "\n",
    "def preprocess(text):\n",
    "    \"\"\"\n",
    "    Retorna um dado texto normalizado: caixa baixa, removendo pontuação, removendo stopwords\n",
    "    \"\"\"\n",
    "    # caixa baixa\n",
    "    text = text.lower()\n",
    "    # remover pontuação\n",
    "    punctuation = string.punctuation\n",
    "    for punct in punctuation:\n",
    "        text = text.replace(punct, ' ')\n",
    "    # remove espaços em excesso\n",
    "    text = re.sub(' +', ' ', text)\n",
    "\n",
    "    # remove stopwords\n",
    "    tokens = [t for t in text.split() if t not in stopwords_list and len(t) > 2]\n",
    "    text = ' '.join(tokens)\n",
    "\n",
    "    return text\n",
    "\n",
    "def get_top_n_ngrams(corpus, ngram = (1,1), n=None):\n",
    "    \"\"\"\n",
    "    Para uma dada lista de strings, calcula os n-gramas mais frequentes\n",
    "    \"\"\"\n",
    "    if type(corpus) == str:\n",
    "        corpus = [corpus]\n",
    "    vec = CountVectorizer(ngram_range = ngram).fit(corpus)\n",
    "    bag_of_words = vec.transform(corpus)\n",
    "    sum_words = bag_of_words.sum(axis=0) \n",
    "    words_freq = [(word, sum_words[0, idx]) for word, idx in vec.vocabulary_.items()]\n",
    "    words_freq = sorted(words_freq, key = lambda x: x[1], reverse=True)\n",
    "    return words_freq[:n]\n",
    "\n",
    "def build_ngram_df(corpus, ngram = (1,1), n=None,):\n",
    "    \"\"\"\n",
    "    Cria um dataframe de n-gramas\n",
    "    \"\"\"\n",
    "    ngrams = get_top_n_ngrams(corpus, ngram, n)\n",
    "    df1 = pd.DataFrame(ngrams, columns = ['ngrams' , 'count'])\n",
    "    df1 = df1.groupby('ngrams').sum()['count'].sort_values(ascending=False)\n",
    "    return df1\n",
    "\n",
    "def plot_ngrams(ngrams, col = 'C0', orientation = 'vertical'):\n",
    "    \"\"\"\n",
    "    Gráfico de barras dos n-gramas mais frequentes\n",
    "    \"\"\"\n",
    "    labels = list(ngrams.index)\n",
    "    values = list(ngrams.values)\n",
    "    #\n",
    "    if orientation == 'vertical':\n",
    "        g = sns.barplot(y=labels, x=values, color = col)\n",
    "        for p in g.patches:\n",
    "            g.annotate(format(p.get_width(), '.0f'), (p.get_width(), \n",
    "                                                       p.get_y() + p.get_height()/2.), ha = 'center', \n",
    "                       va = 'center', xytext = (10, 0), textcoords = 'offset points')\n",
    "    else:\n",
    "        plt.xticks(values, labels, rotation='vertical')\n",
    "        g = sns.barplot(x=labels, y=values, color = col) \n",
    "        for p in g.patches:\n",
    "            g.annotate(format(p.get_height(), '.0f'), (p.get_x() + p.get_width() / 2., \n",
    "                                                       p.get_height()), ha = 'center', \n",
    "                       va = 'center', xytext = (0, 5), textcoords = 'offset points') \n",
    "    "
   ]
  },
  {
   "cell_type": "code",
   "execution_count": 61,
   "metadata": {},
   "outputs": [],
   "source": [
    "df['letra normalizada'] = [preprocess(text) for text in df['letra']]"
   ]
  },
  {
   "cell_type": "code",
   "execution_count": 62,
   "metadata": {},
   "outputs": [],
   "source": [
    "# tamanho dos textos\n",
    "df['número de palavras'] = [len(string.split()) for string in df['letra']]\n",
    "df['número de caracteres'] = [len(string) for string in df['letra']]"
   ]
  },
  {
   "cell_type": "code",
   "execution_count": null,
   "metadata": {},
   "outputs": [],
   "source": []
  },
  {
   "cell_type": "code",
   "execution_count": 92,
   "metadata": {},
   "outputs": [
    {
     "name": "stdout",
     "output_type": "stream",
     "text": [
      "estrada\n",
      "atrapalham\n",
      "estrada\n",
      "estrada\n"
     ]
    }
   ],
   "source": [
    "aguape = list(df[df['título']=='Aguapé']['letra normalizada'])[0]\n",
    "for t in aguape.split():\n",
    "    if 'tra' in t:\n",
    "        print(t)"
   ]
  },
  {
   "cell_type": "code",
   "execution_count": 90,
   "metadata": {},
   "outputs": [
    {
     "name": "stdout",
     "output_type": "stream",
     "text": [
      "tra\n",
      "tra\n",
      "tra\n",
      "tra\n",
      "tra\n",
      "tra\n"
     ]
    }
   ],
   "source": [
    "\n",
    "tokens = (lyrics).split()\n",
    "for t in tokens:\n",
    "    if 'tra' == t:\n",
    "        print(t)"
   ]
  },
  {
   "cell_type": "code",
   "execution_count": 68,
   "metadata": {},
   "outputs": [],
   "source": [
    "# termos que aparecem em mais músicas\n",
    "song_dict = dict(zip(df['título'], df['letra normalizada']))\n",
    "tokens = set(' '.join(df['letra normalizada']).split())\n",
    "number_of_songs_by_token = {}\n",
    "songs_by_token = {}\n",
    "for token in tokens:\n",
    "    for song in song_dict.keys():\n",
    "        if token in song_dict[song]:\n",
    "            n = number_of_songs_by_token.get(token, 0)\n",
    "            n += 1\n",
    "            number_of_songs_by_token[token] = n\n",
    "\n",
    "            songs = songs_by_token.get(token, '')\n",
    "            songs = songs.split()\n",
    "            songs.append(song)\n",
    "            songs_by_token[token] = ' '.join(songs)"
   ]
  },
  {
   "cell_type": "code",
   "execution_count": 69,
   "metadata": {},
   "outputs": [
    {
     "data": {
      "text/html": [
       "<div>\n",
       "<style scoped>\n",
       "    .dataframe tbody tr th:only-of-type {\n",
       "        vertical-align: middle;\n",
       "    }\n",
       "\n",
       "    .dataframe tbody tr th {\n",
       "        vertical-align: top;\n",
       "    }\n",
       "\n",
       "    .dataframe thead th {\n",
       "        text-align: right;\n",
       "    }\n",
       "</style>\n",
       "<table border=\"1\" class=\"dataframe\">\n",
       "  <thead>\n",
       "    <tr style=\"text-align: right;\">\n",
       "      <th></th>\n",
       "      <th>número de músicas em que o termo ocorre</th>\n",
       "      <th>músicas em que o termo ocorre</th>\n",
       "    </tr>\n",
       "  </thead>\n",
       "  <tbody>\n",
       "    <tr>\n",
       "      <th>não</th>\n",
       "      <td>70</td>\n",
       "      <td>Aguapé Alucinação Amor e Crime Apenas Um Rapaz...</td>\n",
       "    </tr>\n",
       "    <tr>\n",
       "      <th>est</th>\n",
       "      <td>61</td>\n",
       "      <td>A Palo Seco Aguapé Alucinação Amor e Crime Art...</td>\n",
       "    </tr>\n",
       "    <tr>\n",
       "      <th>tra</th>\n",
       "      <td>61</td>\n",
       "      <td>Aguapé Alucinação Apenas Um Rapaz Latino Ameri...</td>\n",
       "    </tr>\n",
       "    <tr>\n",
       "      <th>ora</th>\n",
       "      <td>58</td>\n",
       "      <td>Aguapé Amor e Crime Arte Final Bahiuno Baihuno...</td>\n",
       "    </tr>\n",
       "    <tr>\n",
       "      <th>ente</th>\n",
       "      <td>54</td>\n",
       "      <td>A Palo Seco Aguapé Alucinação Apenas Um Rapaz ...</td>\n",
       "    </tr>\n",
       "    <tr>\n",
       "      <th>cor</th>\n",
       "      <td>54</td>\n",
       "      <td>A Palo Seco Aguapé Alucinação Apenas Um Rapaz ...</td>\n",
       "    </tr>\n",
       "    <tr>\n",
       "      <th>con</th>\n",
       "      <td>52</td>\n",
       "      <td>A Palo Seco Aguapé Apenas Um Rapaz Latino Amer...</td>\n",
       "    </tr>\n",
       "    <tr>\n",
       "      <th>ver</th>\n",
       "      <td>52</td>\n",
       "      <td>Alucinação Apenas Um Rapaz Latino Americano At...</td>\n",
       "    </tr>\n",
       "    <tr>\n",
       "      <th>des</th>\n",
       "      <td>51</td>\n",
       "      <td>A Palo Seco Alucinação Amor e Crime Arte Final...</td>\n",
       "    </tr>\n",
       "    <tr>\n",
       "      <th>ida</th>\n",
       "      <td>51</td>\n",
       "      <td>Alucinação Amor e Crime Apenas Um Rapaz Latino...</td>\n",
       "    </tr>\n",
       "  </tbody>\n",
       "</table>\n",
       "</div>"
      ],
      "text/plain": [
       "      número de músicas em que o termo ocorre  \\\n",
       "não                                        70   \n",
       "est                                        61   \n",
       "tra                                        61   \n",
       "ora                                        58   \n",
       "ente                                       54   \n",
       "cor                                        54   \n",
       "con                                        52   \n",
       "ver                                        52   \n",
       "des                                        51   \n",
       "ida                                        51   \n",
       "\n",
       "                          músicas em que o termo ocorre  \n",
       "não   Aguapé Alucinação Amor e Crime Apenas Um Rapaz...  \n",
       "est   A Palo Seco Aguapé Alucinação Amor e Crime Art...  \n",
       "tra   Aguapé Alucinação Apenas Um Rapaz Latino Ameri...  \n",
       "ora   Aguapé Amor e Crime Arte Final Bahiuno Baihuno...  \n",
       "ente  A Palo Seco Aguapé Alucinação Apenas Um Rapaz ...  \n",
       "cor   A Palo Seco Aguapé Alucinação Apenas Um Rapaz ...  \n",
       "con   A Palo Seco Aguapé Apenas Um Rapaz Latino Amer...  \n",
       "ver   Alucinação Apenas Um Rapaz Latino Americano At...  \n",
       "des   A Palo Seco Alucinação Amor e Crime Arte Final...  \n",
       "ida   Alucinação Amor e Crime Apenas Um Rapaz Latino...  "
      ]
     },
     "execution_count": 69,
     "metadata": {},
     "output_type": "execute_result"
    }
   ],
   "source": [
    "df_songs_tokens = pd.concat([pd.Series(number_of_songs_by_token), pd.Series(songs_by_token)], axis = 1)\n",
    "df_songs_tokens.columns = ['número de músicas em que o termo ocorre', 'músicas em que o termo ocorre']\n",
    "df_songs_tokens = df_songs_tokens.sort_values(by = 'número de músicas em que o termo ocorre', ascending = False)\n",
    "df_songs_tokens.head(10)"
   ]
  },
  {
   "cell_type": "code",
   "execution_count": 75,
   "metadata": {},
   "outputs": [
    {
     "name": "stdout",
     "output_type": "stream",
     "text": [
      "estrada\n",
      "atrapalham\n",
      "estrada\n",
      "estrada\n"
     ]
    }
   ],
   "source": [
    "a = list(df[df['título']=='Aguapé']['letra normalizada'])[0]\n",
    "for b in a.split():\n",
    "    if 'tra' in b:\n",
    "        print(b)"
   ]
  },
  {
   "cell_type": "markdown",
   "metadata": {},
   "source": [
    "# Visualizações estáticas"
   ]
  },
  {
   "cell_type": "code",
   "execution_count": 63,
   "metadata": {},
   "outputs": [
    {
     "data": {
      "image/png": "[encoded data removed]",
      "text/plain": [
       "<Figure size 640x480 with 1 Axes>"
      ]
     },
     "metadata": {},
     "output_type": "display_data"
    }
   ],
   "source": [
    "# unigramas\n",
    "lyrics = ' '.join(list(df['letra normalizada']))\n",
    "n_grams = (1,1)\n",
    "total_bigrams = build_ngram_df(lyrics, ngram = n_grams, n=20)\n",
    "plt.title('unigramas mais frequentes')\n",
    "plot_ngrams(total_bigrams, col='C2', orientation = 'vertical')"
   ]
  },
  {
   "cell_type": "code",
   "execution_count": 64,
   "metadata": {},
   "outputs": [
    {
     "data": {
      "image/png": "[encoded data removed]",
      "text/plain": [
       "<Figure size 640x480 with 1 Axes>"
      ]
     },
     "metadata": {},
     "output_type": "display_data"
    }
   ],
   "source": [
    "n_grams = (2,2)\n",
    "total_bigrams = build_ngram_df(lyrics, ngram = n_grams, n=20)\n",
    "plt.title('bigramas mais frequentes')\n",
    "plot_ngrams(total_bigrams, col='C1', orientation = 'vertical')"
   ]
  },
  {
   "cell_type": "code",
   "execution_count": null,
   "metadata": {},
   "outputs": [],
   "source": []
  }
 ],
 "metadata": {
  "kernelspec": {
   "display_name": "Python 3.9.15 ('belchior')",
   "language": "python",
   "name": "python3"
  },
  "language_info": {
   "codemirror_mode": {
    "name": "ipython",
    "version": 3
   },
   "file_extension": ".py",
   "mimetype": "text/x-python",
   "name": "python",
   "nbconvert_exporter": "python",
   "pygments_lexer": "ipython3",
   "version": "3.9.15"
  },
  "orig_nbformat": 4,
  "vscode": {
   "interpreter": {
    "hash": "a41bf1b711acf6e13f5405b59a72e2891ed0740d19d2ad12b87dee19c713eb30"
   }
  }
 },
 "nbformat": 4,
 "nbformat_minor": 2
}
